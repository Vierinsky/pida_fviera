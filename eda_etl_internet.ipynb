{
 "cells": [
  {
   "cell_type": "code",
   "execution_count": null,
   "metadata": {},
   "outputs": [],
   "source": [
    "import matplotlib.pyplot as plt\n",
    "import numpy as np\n",
    "import pandas as pd\n",
    "import seaborn as sns\n",
    "import warnings\n",
    "warnings.filterwarnings(\"ignore\")"
   ]
  },
  {
   "cell_type": "markdown",
   "metadata": {},
   "source": [
    "Importante:\n",
    "* Dataset obligatorio: internet"
   ]
  },
  {
   "cell_type": "markdown",
   "metadata": {},
   "source": [
    "Requerimientos EDA:\n",
    "* Outliers\n",
    "* Duplicados\n",
    "* NaN's\n",
    "* Gráficos pertinentes con el tipo de variable (cualitativa/quantitativa)\n",
    "    * Gráfico acompañado de análisis profundo y conclusiones obtenidas\n",
    "* Uso de markdown para documentar paso a paso del análisis, justificando decisiones tomadas."
   ]
  },
  {
   "cell_type": "markdown",
   "metadata": {},
   "source": [
    "Readme:\n",
    "* Descripción detallada y concisa del proyecto\n",
    "* Presentación clara y concisa del proyecto\n",
    "* Se mencionan tecnologías y herramientas utilizadas\n",
    "* Se explica metodología que se siguió\n",
    "* se presentan análisis detallados y conclusiones fundamentadas"
   ]
  },
  {
   "cell_type": "markdown",
   "metadata": {},
   "source": [
    "KPI's:\n",
    "* mínimo 3 kpi's en dashboard. Se debe explicar y defender la elección de estos.\n",
    "* Saber distinción entre métrica y kpi, utilizando visuales apropiadas para estos últimos"
   ]
  },
  {
   "cell_type": "markdown",
   "metadata": {},
   "source": [
    "Dashboard \n",
    "\n",
    "1) funcionalidad y usabilidad:\n",
    "* filtros, selecciones y acciones implementadas son eficientes y tienen valor estratégico para agregar valor al análisis\n",
    "* UX con navegación intuitiva, funciones no requieren explicaciones adicionales\n",
    "\n",
    "2) Compresión propósito:\n",
    "* Muestra visión general de los datos con info clave para toma de decisiones\n",
    "* Se enfoca en indicadores clave relevantes respecto del objetivo\n",
    "\n",
    "3) Diseño:\n",
    "* Fácil comprensión\n",
    "* Elementos alineados, colores y tipografía consistente\n",
    "* Uso Técnicas de diseño (tamaño, color, posición) para guiar atención"
   ]
  },
  {
   "cell_type": "markdown",
   "metadata": {},
   "source": [
    "Gráficas:\n",
    "\n",
    "* Gráficas corresponde con tipo de variable y representa lo que pretende\n",
    "* Estilo uniforme y consistente, escala adecuada, títulos de ejes y etiquetas son descriptivos\n",
    "* Idioma y denominación de variables se encuentran unificados"
   ]
  }
 ],
 "metadata": {
  "language_info": {
   "name": "python"
  }
 },
 "nbformat": 4,
 "nbformat_minor": 2
}
