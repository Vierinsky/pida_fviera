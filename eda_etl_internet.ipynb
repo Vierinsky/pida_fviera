{
 "cells": [
  {
   "cell_type": "code",
   "execution_count": 3298,
   "metadata": {},
   "outputs": [],
   "source": [
    "import matplotlib.pyplot as plt\n",
    "import numpy as np\n",
    "import pandas as pd\n",
    "import seaborn as sns\n",
    "import warnings\n",
    "warnings.filterwarnings(\"ignore\")"
   ]
  },
  {
   "cell_type": "markdown",
   "metadata": {},
   "source": [
    "### Todo\n",
    "* Explicar graficos"
   ]
  },
  {
   "cell_type": "code",
   "execution_count": 3299,
   "metadata": {},
   "outputs": [],
   "source": [
    "# En este caso internet será un diccionario en que cada key sera el nombre de la hoja y cada value la hoja en sí\n",
    "internet = pd.read_excel(r'C:\\Users\\felip\\Desktop\\Stuff\\Cursos\\SoyHenry\\Clases\\LABS\\PI Data Analytics\\pida_fviera\\venv\\Datasets\\Internet.xlsx', sheet_name=None)"
   ]
  },
  {
   "cell_type": "code",
   "execution_count": 3300,
   "metadata": {},
   "outputs": [],
   "source": [
    "acc_vel_loc_sin_rangos, velocidad_sin_Rangos, accesos_tecnologia_localidad, velocidad_porcent_prov, totales_vmd, totales_accesos_tecnologia, accesos_por_tecnologia, penetracion_poblacion, penetracion_hogares, penetracion_totales, totales_accesos_velocidad, accesos_por_velocidad, dial_baf, totales_dial_baf, ingresos = internet.values()"
   ]
  },
  {
   "cell_type": "code",
   "execution_count": 3301,
   "metadata": {},
   "outputs": [
    {
     "data": {
      "text/html": [
       "<div>\n",
       "<style scoped>\n",
       "    .dataframe tbody tr th:only-of-type {\n",
       "        vertical-align: middle;\n",
       "    }\n",
       "\n",
       "    .dataframe tbody tr th {\n",
       "        vertical-align: top;\n",
       "    }\n",
       "\n",
       "    .dataframe thead th {\n",
       "        text-align: right;\n",
       "    }\n",
       "</style>\n",
       "<table border=\"1\" class=\"dataframe\">\n",
       "  <thead>\n",
       "    <tr style=\"text-align: right;\">\n",
       "      <th></th>\n",
       "      <th>Provincia</th>\n",
       "      <th>Latitud</th>\n",
       "      <th>Longitud</th>\n",
       "    </tr>\n",
       "  </thead>\n",
       "  <tbody>\n",
       "    <tr>\n",
       "      <th>0</th>\n",
       "      <td>Mendoza</td>\n",
       "      <td>-34,5890</td>\n",
       "      <td>-68,3480</td>\n",
       "    </tr>\n",
       "    <tr>\n",
       "      <th>1</th>\n",
       "      <td>Capital Federal</td>\n",
       "      <td>-34,6037</td>\n",
       "      <td>-58,3816</td>\n",
       "    </tr>\n",
       "    <tr>\n",
       "      <th>2</th>\n",
       "      <td>Tierra Del Fuego</td>\n",
       "      <td>-54,8019</td>\n",
       "      <td>-68,3029</td>\n",
       "    </tr>\n",
       "    <tr>\n",
       "      <th>3</th>\n",
       "      <td>Santiago Del Estero</td>\n",
       "      <td>-27,7834</td>\n",
       "      <td>-64,2642</td>\n",
       "    </tr>\n",
       "    <tr>\n",
       "      <th>4</th>\n",
       "      <td>Santa Fe</td>\n",
       "      <td>-31,6333</td>\n",
       "      <td>-60,7000</td>\n",
       "    </tr>\n",
       "  </tbody>\n",
       "</table>\n",
       "</div>"
      ],
      "text/plain": [
       "             Provincia   Latitud  Longitud\n",
       "0              Mendoza  -34,5890  -68,3480\n",
       "1      Capital Federal  -34,6037  -58,3816\n",
       "2     Tierra Del Fuego  -54,8019  -68,3029\n",
       "3  Santiago Del Estero  -27,7834  -64,2642\n",
       "4             Santa Fe  -31,6333  -60,7000"
      ]
     },
     "execution_count": 3301,
     "metadata": {},
     "output_type": "execute_result"
    }
   ],
   "source": [
    "# Se agrega dataset con la latitud y longitud del centro de cada provincia para corregir error en mapas de PowerBI\n",
    "\n",
    "lat_long_prov = pd. read_csv(r'C:\\Users\\felip\\Desktop\\Stuff\\Cursos\\SoyHenry\\Clases\\LABS\\PI Data Analytics\\pida_fviera\\venv\\Datasets\\lat_long_provincias_argentina.csv', sep=';')\n",
    "\n",
    "lat_long_prov.head()"
   ]
  },
  {
   "cell_type": "code",
   "execution_count": 3302,
   "metadata": {},
   "outputs": [
    {
     "data": {
      "text/html": [
       "<div>\n",
       "<style scoped>\n",
       "    .dataframe tbody tr th:only-of-type {\n",
       "        vertical-align: middle;\n",
       "    }\n",
       "\n",
       "    .dataframe tbody tr th {\n",
       "        vertical-align: top;\n",
       "    }\n",
       "\n",
       "    .dataframe thead th {\n",
       "        text-align: right;\n",
       "    }\n",
       "</style>\n",
       "<table border=\"1\" class=\"dataframe\">\n",
       "  <thead>\n",
       "    <tr style=\"text-align: right;\">\n",
       "      <th></th>\n",
       "      <th>Provincia</th>\n",
       "      <th>Poblacion</th>\n",
       "    </tr>\n",
       "  </thead>\n",
       "  <tbody>\n",
       "    <tr>\n",
       "      <th>0</th>\n",
       "      <td>Buenos Aires</td>\n",
       "      <td>17569053</td>\n",
       "    </tr>\n",
       "    <tr>\n",
       "      <th>1</th>\n",
       "      <td>Capital Federal</td>\n",
       "      <td>3120612</td>\n",
       "    </tr>\n",
       "    <tr>\n",
       "      <th>2</th>\n",
       "      <td>Tierra Del Fuego</td>\n",
       "      <td>190641</td>\n",
       "    </tr>\n",
       "    <tr>\n",
       "      <th>3</th>\n",
       "      <td>Santiago Del Estero</td>\n",
       "      <td>1054028</td>\n",
       "    </tr>\n",
       "    <tr>\n",
       "      <th>4</th>\n",
       "      <td>Santa Fe</td>\n",
       "      <td>3556522</td>\n",
       "    </tr>\n",
       "  </tbody>\n",
       "</table>\n",
       "</div>"
      ],
      "text/plain": [
       "             Provincia  Poblacion\n",
       "0         Buenos Aires   17569053\n",
       "1      Capital Federal    3120612\n",
       "2     Tierra Del Fuego     190641\n",
       "3  Santiago Del Estero    1054028\n",
       "4             Santa Fe    3556522"
      ]
     },
     "execution_count": 3302,
     "metadata": {},
     "output_type": "execute_result"
    }
   ],
   "source": [
    "poblacion_arg_provincia = pd.read_csv(r'C:\\Users\\felip\\Desktop\\Stuff\\Cursos\\SoyHenry\\Clases\\LABS\\PI Data Analytics\\pida_fviera\\Datasets\\provincias_poblacion_censo_2022.csv', encoding='latin-1', sep=';')\n",
    "\n",
    "poblacion_arg_provincia.head()"
   ]
  },
  {
   "cell_type": "markdown",
   "metadata": {},
   "source": [
    "# EDA y Transformaciones"
   ]
  },
  {
   "cell_type": "code",
   "execution_count": 3303,
   "metadata": {},
   "outputs": [
    {
     "data": {
      "text/html": [
       "<div>\n",
       "<style scoped>\n",
       "    .dataframe tbody tr th:only-of-type {\n",
       "        vertical-align: middle;\n",
       "    }\n",
       "\n",
       "    .dataframe tbody tr th {\n",
       "        vertical-align: top;\n",
       "    }\n",
       "\n",
       "    .dataframe thead th {\n",
       "        text-align: right;\n",
       "    }\n",
       "</style>\n",
       "<table border=\"1\" class=\"dataframe\">\n",
       "  <thead>\n",
       "    <tr style=\"text-align: right;\">\n",
       "      <th></th>\n",
       "      <th>Partido</th>\n",
       "      <th>Localidad</th>\n",
       "      <th>link Indec</th>\n",
       "      <th>Velocidad (Mbps)</th>\n",
       "      <th>Provincia</th>\n",
       "      <th>Accesos</th>\n",
       "    </tr>\n",
       "  </thead>\n",
       "  <tbody>\n",
       "    <tr>\n",
       "      <th>0</th>\n",
       "      <td>BUENOS AIRES</td>\n",
       "      <td>25 de Mayo</td>\n",
       "      <td>25 de Mayo</td>\n",
       "      <td>6854100</td>\n",
       "      <td>0.00</td>\n",
       "      <td>1.0</td>\n",
       "    </tr>\n",
       "    <tr>\n",
       "      <th>1</th>\n",
       "      <td>BUENOS AIRES</td>\n",
       "      <td>25 de Mayo</td>\n",
       "      <td>25 de Mayo</td>\n",
       "      <td>6854100</td>\n",
       "      <td>0.50</td>\n",
       "      <td>2.0</td>\n",
       "    </tr>\n",
       "    <tr>\n",
       "      <th>2</th>\n",
       "      <td>BUENOS AIRES</td>\n",
       "      <td>25 de Mayo</td>\n",
       "      <td>25 de Mayo</td>\n",
       "      <td>6854100</td>\n",
       "      <td>0.75</td>\n",
       "      <td>19.0</td>\n",
       "    </tr>\n",
       "    <tr>\n",
       "      <th>3</th>\n",
       "      <td>BUENOS AIRES</td>\n",
       "      <td>25 de Mayo</td>\n",
       "      <td>25 de Mayo</td>\n",
       "      <td>6854100</td>\n",
       "      <td>3.00</td>\n",
       "      <td>85.0</td>\n",
       "    </tr>\n",
       "    <tr>\n",
       "      <th>4</th>\n",
       "      <td>BUENOS AIRES</td>\n",
       "      <td>25 de Mayo</td>\n",
       "      <td>25 de Mayo</td>\n",
       "      <td>6854100</td>\n",
       "      <td>3.50</td>\n",
       "      <td>145.0</td>\n",
       "    </tr>\n",
       "  </tbody>\n",
       "</table>\n",
       "</div>"
      ],
      "text/plain": [
       "        Partido   Localidad  link Indec Velocidad (Mbps)  Provincia  Accesos\n",
       "0  BUENOS AIRES  25 de Mayo  25 de Mayo          6854100       0.00      1.0\n",
       "1  BUENOS AIRES  25 de Mayo  25 de Mayo          6854100       0.50      2.0\n",
       "2  BUENOS AIRES  25 de Mayo  25 de Mayo          6854100       0.75     19.0\n",
       "3  BUENOS AIRES  25 de Mayo  25 de Mayo          6854100       3.00     85.0\n",
       "4  BUENOS AIRES  25 de Mayo  25 de Mayo          6854100       3.50    145.0"
      ]
     },
     "execution_count": 3303,
     "metadata": {},
     "output_type": "execute_result"
    }
   ],
   "source": [
    "acc_vel_loc_sin_rangos.head()"
   ]
  },
  {
   "cell_type": "code",
   "execution_count": 3304,
   "metadata": {},
   "outputs": [
    {
     "data": {
      "text/plain": [
       "Index(['BUENOS AIRES', 'CORDOBA', 'SANTA FE', 'ENTRE RIOS', 'MENDOZA', 'SALTA',\n",
       "       'RIO NEGRO', 'SANTIAGO DEL ESTERO', 'LA PAMPA', 'MISIONES', 'CHACO',\n",
       "       'TUCUMAN', 'NEUQUEN', 'CORRIENTES', 'SAN JUAN', 'CHUBUT', 'FORMOSA',\n",
       "       'JUJUY', 'SAN LUIS', 'LA RIOJA', 'CATAMARCA', 'SANTA CRUZ',\n",
       "       'TIERRA DEL FUEGO', 'CABA'],\n",
       "      dtype='object', name='Partido')"
      ]
     },
     "execution_count": 3304,
     "metadata": {},
     "output_type": "execute_result"
    }
   ],
   "source": [
    "acc_vel_loc_sin_rangos['Partido'].value_counts().index"
   ]
  },
  {
   "cell_type": "code",
   "execution_count": 3305,
   "metadata": {},
   "outputs": [
    {
     "data": {
      "text/html": [
       "<div>\n",
       "<style scoped>\n",
       "    .dataframe tbody tr th:only-of-type {\n",
       "        vertical-align: middle;\n",
       "    }\n",
       "\n",
       "    .dataframe tbody tr th {\n",
       "        vertical-align: top;\n",
       "    }\n",
       "\n",
       "    .dataframe thead th {\n",
       "        text-align: right;\n",
       "    }\n",
       "</style>\n",
       "<table border=\"1\" class=\"dataframe\">\n",
       "  <thead>\n",
       "    <tr style=\"text-align: right;\">\n",
       "      <th></th>\n",
       "      <th>Año</th>\n",
       "      <th>Trimestre</th>\n",
       "      <th>Provincia</th>\n",
       "      <th>Velocidad</th>\n",
       "      <th>Accesos</th>\n",
       "    </tr>\n",
       "  </thead>\n",
       "  <tbody>\n",
       "    <tr>\n",
       "      <th>0</th>\n",
       "      <td>2024</td>\n",
       "      <td>2</td>\n",
       "      <td>BUENOS AIRES</td>\n",
       "      <td>75.0</td>\n",
       "      <td>1062</td>\n",
       "    </tr>\n",
       "    <tr>\n",
       "      <th>1</th>\n",
       "      <td>2024</td>\n",
       "      <td>2</td>\n",
       "      <td>BUENOS AIRES</td>\n",
       "      <td>59.0</td>\n",
       "      <td>59</td>\n",
       "    </tr>\n",
       "    <tr>\n",
       "      <th>2</th>\n",
       "      <td>2024</td>\n",
       "      <td>2</td>\n",
       "      <td>BUENOS AIRES</td>\n",
       "      <td>480.0</td>\n",
       "      <td>5</td>\n",
       "    </tr>\n",
       "    <tr>\n",
       "      <th>3</th>\n",
       "      <td>2024</td>\n",
       "      <td>2</td>\n",
       "      <td>BUENOS AIRES</td>\n",
       "      <td>3.5</td>\n",
       "      <td>41735</td>\n",
       "    </tr>\n",
       "    <tr>\n",
       "      <th>4</th>\n",
       "      <td>2024</td>\n",
       "      <td>2</td>\n",
       "      <td>BUENOS AIRES</td>\n",
       "      <td>18.0</td>\n",
       "      <td>1042</td>\n",
       "    </tr>\n",
       "  </tbody>\n",
       "</table>\n",
       "</div>"
      ],
      "text/plain": [
       "    Año  Trimestre     Provincia  Velocidad  Accesos\n",
       "0  2024          2  BUENOS AIRES       75.0     1062\n",
       "1  2024          2  BUENOS AIRES       59.0       59\n",
       "2  2024          2  BUENOS AIRES      480.0        5\n",
       "3  2024          2  BUENOS AIRES        3.5    41735\n",
       "4  2024          2  BUENOS AIRES       18.0     1042"
      ]
     },
     "execution_count": 3305,
     "metadata": {},
     "output_type": "execute_result"
    }
   ],
   "source": [
    "velocidad_sin_Rangos.head()"
   ]
  },
  {
   "cell_type": "code",
   "execution_count": 3306,
   "metadata": {},
   "outputs": [
    {
     "data": {
      "text/plain": [
       "Index(['Buenos Aires', 'Capital Federal', 'Córdoba', 'Santa Fe', 'Mendoza',\n",
       "       'Río Negro', 'La Pampa', 'Misiones', 'Entre Ríos', 'Tucumán', 'Chaco',\n",
       "       'Neuquén', 'Chubut', 'Salta', 'Santa Cruz', 'Jujuy', 'Corrientes',\n",
       "       'Tierra Del Fuego', 'Santiago Del Estero', 'Formosa', 'San Juan',\n",
       "       'San Luis', 'Catamarca', 'La Rioja', 'BUENOS AIRES', 'CORDOBA',\n",
       "       'SANTA FE', 'CABA', 'RIO NEGRO', 'CHUBUT', 'MENDOZA', 'TUCUMAN',\n",
       "       'SALTA', 'LA PAMPA', 'MISIONES', 'TIERRA DEL FUEGO', 'SANTA CRUZ',\n",
       "       'NEUQUEN', 'ENTRE RIOS', 'CORRIENTES', 'JUJUY', 'CHACO', 'SAN JUAN',\n",
       "       'SANTIAGO DEL ESTERO', 'SAN LUIS', 'FORMOSA', 'LA RIOJA', 'CATAMARCA'],\n",
       "      dtype='object', name='Provincia')"
      ]
     },
     "execution_count": 3306,
     "metadata": {},
     "output_type": "execute_result"
    }
   ],
   "source": [
    "velocidad_sin_Rangos['Provincia'].value_counts().index"
   ]
  },
  {
   "cell_type": "markdown",
   "metadata": {},
   "source": [
    "## accesos_tecnologia_localidad"
   ]
  },
  {
   "cell_type": "code",
   "execution_count": 3307,
   "metadata": {},
   "outputs": [
    {
     "data": {
      "text/html": [
       "<div>\n",
       "<style scoped>\n",
       "    .dataframe tbody tr th:only-of-type {\n",
       "        vertical-align: middle;\n",
       "    }\n",
       "\n",
       "    .dataframe tbody tr th {\n",
       "        vertical-align: top;\n",
       "    }\n",
       "\n",
       "    .dataframe thead th {\n",
       "        text-align: right;\n",
       "    }\n",
       "</style>\n",
       "<table border=\"1\" class=\"dataframe\">\n",
       "  <thead>\n",
       "    <tr style=\"text-align: right;\">\n",
       "      <th></th>\n",
       "      <th>Provincia</th>\n",
       "      <th>Partido</th>\n",
       "      <th>Localidad</th>\n",
       "      <th>Tecnologia</th>\n",
       "      <th>Link Indec</th>\n",
       "      <th>Accesos</th>\n",
       "    </tr>\n",
       "  </thead>\n",
       "  <tbody>\n",
       "    <tr>\n",
       "      <th>0</th>\n",
       "      <td>BUENOS AIRES</td>\n",
       "      <td>25 de Mayo</td>\n",
       "      <td>25 de Mayo</td>\n",
       "      <td>ADSL</td>\n",
       "      <td>6854100</td>\n",
       "      <td>755.0</td>\n",
       "    </tr>\n",
       "    <tr>\n",
       "      <th>1</th>\n",
       "      <td>BUENOS AIRES</td>\n",
       "      <td>25 de Mayo</td>\n",
       "      <td>25 de Mayo</td>\n",
       "      <td>CABLEMODEM</td>\n",
       "      <td>6854100</td>\n",
       "      <td>4600.0</td>\n",
       "    </tr>\n",
       "    <tr>\n",
       "      <th>2</th>\n",
       "      <td>BUENOS AIRES</td>\n",
       "      <td>25 de Mayo</td>\n",
       "      <td>25 de Mayo</td>\n",
       "      <td>FIBRA OPTICA</td>\n",
       "      <td>6854100</td>\n",
       "      <td>2.0</td>\n",
       "    </tr>\n",
       "    <tr>\n",
       "      <th>3</th>\n",
       "      <td>BUENOS AIRES</td>\n",
       "      <td>25 de Mayo</td>\n",
       "      <td>25 de Mayo</td>\n",
       "      <td>SATELITAL</td>\n",
       "      <td>6854100</td>\n",
       "      <td>742.0</td>\n",
       "    </tr>\n",
       "    <tr>\n",
       "      <th>4</th>\n",
       "      <td>BUENOS AIRES</td>\n",
       "      <td>25 de Mayo</td>\n",
       "      <td>25 de Mayo</td>\n",
       "      <td>WIRELESS</td>\n",
       "      <td>6854100</td>\n",
       "      <td>727.0</td>\n",
       "    </tr>\n",
       "  </tbody>\n",
       "</table>\n",
       "</div>"
      ],
      "text/plain": [
       "      Provincia     Partido   Localidad    Tecnologia Link Indec  Accesos\n",
       "0  BUENOS AIRES  25 de Mayo  25 de Mayo          ADSL    6854100    755.0\n",
       "1  BUENOS AIRES  25 de Mayo  25 de Mayo    CABLEMODEM    6854100   4600.0\n",
       "2  BUENOS AIRES  25 de Mayo  25 de Mayo  FIBRA OPTICA    6854100      2.0\n",
       "3  BUENOS AIRES  25 de Mayo  25 de Mayo     SATELITAL    6854100    742.0\n",
       "4  BUENOS AIRES  25 de Mayo  25 de Mayo      WIRELESS    6854100    727.0"
      ]
     },
     "execution_count": 3307,
     "metadata": {},
     "output_type": "execute_result"
    }
   ],
   "source": [
    "accesos_tecnologia_localidad.head()"
   ]
  },
  {
   "cell_type": "code",
   "execution_count": 3308,
   "metadata": {},
   "outputs": [
    {
     "data": {
      "text/plain": [
       "Index(['BUENOS AIRES', 'CORDOBA', 'SANTA FE', 'SANTIAGO DEL ESTERO', 'SALTA',\n",
       "       'ENTRE RIOS', 'MENDOZA', 'LA PAMPA', 'RIO NEGRO', 'MISIONES', 'CHACO',\n",
       "       'CORRIENTES', 'SAN LUIS', 'JUJUY', 'NEUQUEN', 'LA RIOJA', 'CHUBUT',\n",
       "       'TUCUMAN', 'SAN JUAN', 'CATAMARCA', 'FORMOSA', 'SANTA CRUZ',\n",
       "       'TIERRA DEL FUEGO', 'CABA'],\n",
       "      dtype='object', name='Provincia')"
      ]
     },
     "execution_count": 3308,
     "metadata": {},
     "output_type": "execute_result"
    }
   ],
   "source": [
    "accesos_tecnologia_localidad['Provincia'].value_counts().index"
   ]
  },
  {
   "cell_type": "code",
   "execution_count": 3309,
   "metadata": {},
   "outputs": [
    {
     "data": {
      "text/plain": [
       "Index(['WIRELESS', 'FIBRA OPTICA', 'ADSL', 'SATELITAL', 'CABLEMODEM', 'Otros',\n",
       "       'DIAL UP', 'OTROS', 'WIMAX', 'Cablemodem'],\n",
       "      dtype='object', name='Tecnologia')"
      ]
     },
     "execution_count": 3309,
     "metadata": {},
     "output_type": "execute_result"
    }
   ],
   "source": [
    "accesos_tecnologia_localidad['Tecnologia'].value_counts().index"
   ]
  },
  {
   "cell_type": "markdown",
   "metadata": {},
   "source": [
    "## Dataset velocidad_porcent_prov"
   ]
  },
  {
   "cell_type": "code",
   "execution_count": 3310,
   "metadata": {},
   "outputs": [
    {
     "data": {
      "text/html": [
       "<div>\n",
       "<style scoped>\n",
       "    .dataframe tbody tr th:only-of-type {\n",
       "        vertical-align: middle;\n",
       "    }\n",
       "\n",
       "    .dataframe tbody tr th {\n",
       "        vertical-align: top;\n",
       "    }\n",
       "\n",
       "    .dataframe thead th {\n",
       "        text-align: right;\n",
       "    }\n",
       "</style>\n",
       "<table border=\"1\" class=\"dataframe\">\n",
       "  <thead>\n",
       "    <tr style=\"text-align: right;\">\n",
       "      <th></th>\n",
       "      <th>Año</th>\n",
       "      <th>Trimestre</th>\n",
       "      <th>Provincia</th>\n",
       "      <th>Mbps (Media de bajada)</th>\n",
       "    </tr>\n",
       "  </thead>\n",
       "  <tbody>\n",
       "    <tr>\n",
       "      <th>0</th>\n",
       "      <td>2024</td>\n",
       "      <td>2</td>\n",
       "      <td>Buenos Aires</td>\n",
       "      <td>157.41</td>\n",
       "    </tr>\n",
       "    <tr>\n",
       "      <th>1</th>\n",
       "      <td>2024</td>\n",
       "      <td>2</td>\n",
       "      <td>Capital Federal</td>\n",
       "      <td>233.01</td>\n",
       "    </tr>\n",
       "    <tr>\n",
       "      <th>2</th>\n",
       "      <td>2024</td>\n",
       "      <td>2</td>\n",
       "      <td>Catamarca</td>\n",
       "      <td>97.38</td>\n",
       "    </tr>\n",
       "    <tr>\n",
       "      <th>3</th>\n",
       "      <td>2024</td>\n",
       "      <td>2</td>\n",
       "      <td>Chaco</td>\n",
       "      <td>107.76</td>\n",
       "    </tr>\n",
       "    <tr>\n",
       "      <th>4</th>\n",
       "      <td>2024</td>\n",
       "      <td>2</td>\n",
       "      <td>Chubut</td>\n",
       "      <td>21.67</td>\n",
       "    </tr>\n",
       "  </tbody>\n",
       "</table>\n",
       "</div>"
      ],
      "text/plain": [
       "    Año  Trimestre        Provincia  Mbps (Media de bajada)\n",
       "0  2024          2     Buenos Aires                  157.41\n",
       "1  2024          2  Capital Federal                  233.01\n",
       "2  2024          2        Catamarca                   97.38\n",
       "3  2024          2            Chaco                  107.76\n",
       "4  2024          2           Chubut                   21.67"
      ]
     },
     "execution_count": 3310,
     "metadata": {},
     "output_type": "execute_result"
    }
   ],
   "source": [
    "velocidad_porcent_prov.head()"
   ]
  },
  {
   "cell_type": "code",
   "execution_count": 3311,
   "metadata": {},
   "outputs": [
    {
     "data": {
      "text/plain": [
       "True"
      ]
     },
     "execution_count": 3311,
     "metadata": {},
     "output_type": "execute_result"
    }
   ],
   "source": [
    "# Revisamos si velocidad_porcent_prov['provincia'] requiere normalización\n",
    "velocidad_provincia_lista = velocidad_porcent_prov['Provincia'].value_counts().index.to_list()\n",
    "\n",
    "penetracion_provincia_lista = penetracion_poblacion['Provincia'].value_counts().index.to_list()\n",
    "\n",
    "son_iguales = set(velocidad_provincia_lista) == set(penetracion_provincia_lista)\n",
    "\n",
    "son_iguales"
   ]
  },
  {
   "cell_type": "code",
   "execution_count": 3312,
   "metadata": {},
   "outputs": [
    {
     "data": {
      "text/plain": [
       "0"
      ]
     },
     "execution_count": 3312,
     "metadata": {},
     "output_type": "execute_result"
    }
   ],
   "source": [
    "# Se busca valores NaN\n",
    "velocidad_porcent_prov['Mbps (Media de bajada)'].isna().sum()"
   ]
  },
  {
   "cell_type": "code",
   "execution_count": 3313,
   "metadata": {},
   "outputs": [],
   "source": [
    "# Se cambia nombre de columan 'Mbps'\n",
    "velocidad_porcent_prov = velocidad_porcent_prov.rename(columns={'Mbps (Media de bajada)':'Mbps'})"
   ]
  },
  {
   "cell_type": "markdown",
   "metadata": {},
   "source": [
    "### Distribución y outliers 'Mbps'"
   ]
  },
  {
   "cell_type": "code",
   "execution_count": 3314,
   "metadata": {},
   "outputs": [
    {
     "data": {
      "image/png": "[encoded data removed]",
      "text/plain": [
       "<Figure size 600x500 with 1 Axes>"
      ]
     },
     "metadata": {},
     "output_type": "display_data"
    }
   ],
   "source": [
    "plt.figure(figsize=(6,5))\n",
    "sns.histplot(velocidad_porcent_prov['Mbps'], kde=True)\n",
    "plt.title('Distribución de Mbps')\n",
    "plt.show()"
   ]
  },
  {
   "cell_type": "markdown",
   "metadata": {},
   "source": [
    "### (Explicar)"
   ]
  },
  {
   "cell_type": "code",
   "execution_count": 3315,
   "metadata": {},
   "outputs": [
    {
     "data": {
      "image/png": "[encoded data removed]",
      "text/plain": [
       "<Figure size 800x300 with 1 Axes>"
      ]
     },
     "metadata": {},
     "output_type": "display_data"
    }
   ],
   "source": [
    "plt.figure(figsize=(8,3))\n",
    "sns.boxplot(data=velocidad_porcent_prov, x='Mbps')\n",
    "plt.show()"
   ]
  },
  {
   "cell_type": "markdown",
   "metadata": {},
   "source": [
    "### (Explicar)"
   ]
  },
  {
   "cell_type": "code",
   "execution_count": 3316,
   "metadata": {},
   "outputs": [
    {
     "name": "stdout",
     "output_type": "stream",
     "text": [
      "      Año  Trimestre        Provincia    Mbps\n",
      "49   2023          4  Capital Federal  234.44\n",
      "1    2024          2  Capital Federal  233.01\n",
      "25   2024          1  Capital Federal  229.94\n",
      "73   2023          3  Capital Federal  218.13\n",
      "97   2023          2  Capital Federal  208.01\n",
      "121  2023          1  Capital Federal  188.65\n",
      "145  2022          4  Capital Federal  182.86\n",
      "18   2024          2         San Luis  181.61\n",
      "42   2024          1         San Luis  179.49\n",
      "66   2023          4         San Luis  174.59\n",
      "(111, 4)\n"
     ]
    }
   ],
   "source": [
    "# Se define outliers como todos los datos por debajo y por sobre (1.5 * Rangos intercuartiles)\n",
    "Q1 = velocidad_porcent_prov['Mbps'].quantile(0.25)\n",
    "Q3 = velocidad_porcent_prov['Mbps'].quantile(0.75)\n",
    "\n",
    "IQR = Q3 - Q1\n",
    "\n",
    "limite_inferior = Q1 - 1.5 * IQR\n",
    "limite_superior = Q3 + 1.5 * IQR\n",
    "\n",
    "outliers = velocidad_porcent_prov[(velocidad_porcent_prov['Mbps'] < limite_inferior) | (velocidad_porcent_prov['Mbps'] > limite_superior)]\n",
    "\n",
    "print(outliers.sort_values(by='Mbps', ascending=False).head(10))\n",
    "print(outliers.shape)"
   ]
  },
  {
   "cell_type": "markdown",
   "metadata": {},
   "source": [
    "### Conclusión Outliers velocidad_porcent_prov:"
   ]
  },
  {
   "cell_type": "markdown",
   "metadata": {},
   "source": [
    "* Considerando que los outliers se concentran en Capital Federal y en zonas demográficamente densas y siguen un patrón similar al de otros dataset se decide mantenerlos sin modificación para no afectar la naturaleza de los datos."
   ]
  },
  {
   "cell_type": "markdown",
   "metadata": {},
   "source": [
    "### Creación archivo csv velocidad_porcent_prov"
   ]
  },
  {
   "cell_type": "code",
   "execution_count": 3317,
   "metadata": {},
   "outputs": [],
   "source": [
    "# Se elimina columna semestre\n",
    "# velocidad_porcent_prov = velocidad_porcent_prov.drop(columns='Trimestre')"
   ]
  },
  {
   "cell_type": "code",
   "execution_count": 3318,
   "metadata": {},
   "outputs": [],
   "source": [
    "# Se hace Join con dataset de latitudes y longitudes para posibles mapas en PowerBI\n",
    "velocidad_porcent_prov = velocidad_porcent_prov.merge(lat_long_prov, on='Provincia', how='left')"
   ]
  },
  {
   "cell_type": "code",
   "execution_count": 3319,
   "metadata": {},
   "outputs": [
    {
     "name": "stdout",
     "output_type": "stream",
     "text": [
      "      Año  Trimestre     Provincia      Mbps   Latitud  Longitud  Meta Mbps\n",
      "984  2014          1  Buenos Aires  3.733133  -36,6769  -60,5588   0.000000\n",
      "960  2014          2  Buenos Aires  3.851863  -36,6769  -60,5588   3.807795\n",
      "936  2014          3  Buenos Aires  3.969047  -36,6769  -60,5588   3.928900\n",
      "912  2014          4  Buenos Aires  4.198944  -36,6769  -60,5588   4.048428\n",
      "888  2015          1  Buenos Aires  4.323804  -36,6769  -60,5588   4.282922\n"
     ]
    }
   ],
   "source": [
    "# Asegurarse de que los datos estén ordenados por Provincia, Año y Trimestre\n",
    "velocidad_porcent_prov = velocidad_porcent_prov.sort_values(by=['Provincia', 'Año', 'Trimestre'])\n",
    "\n",
    "# Crear una columna para los accesos del trimestre anterior\n",
    "velocidad_porcent_prov['Trimestre anterior'] = velocidad_porcent_prov.groupby('Provincia')['Mbps'].shift(1)\n",
    "\n",
    "# Calcular la meta como un 2% más de los accesos del trimestre anterior\n",
    "velocidad_porcent_prov['Meta Mbps'] = velocidad_porcent_prov['Trimestre anterior'] * 1.02\n",
    "\n",
    "# Valores null igual a 0 para el primer trimestre registrado de cada provincia\n",
    "velocidad_porcent_prov.loc[velocidad_porcent_prov['Trimestre anterior'].isnull(), 'Meta Mbps'] = 0\n",
    "\n",
    "# Eliminar la columna del trimestre anterior si no es necesaria\n",
    "velocidad_porcent_prov = velocidad_porcent_prov.drop(columns=['Trimestre anterior'])\n",
    "\n",
    "# Revisar los resultados\n",
    "print(velocidad_porcent_prov.head())"
   ]
  },
  {
   "cell_type": "code",
   "execution_count": 3320,
   "metadata": {},
   "outputs": [
    {
     "data": {
      "text/html": [
       "<div>\n",
       "<style scoped>\n",
       "    .dataframe tbody tr th:only-of-type {\n",
       "        vertical-align: middle;\n",
       "    }\n",
       "\n",
       "    .dataframe tbody tr th {\n",
       "        vertical-align: top;\n",
       "    }\n",
       "\n",
       "    .dataframe thead th {\n",
       "        text-align: right;\n",
       "    }\n",
       "</style>\n",
       "<table border=\"1\" class=\"dataframe\">\n",
       "  <thead>\n",
       "    <tr style=\"text-align: right;\">\n",
       "      <th></th>\n",
       "      <th>Año</th>\n",
       "      <th>Trimestre</th>\n",
       "      <th>Provincia</th>\n",
       "      <th>Mbps</th>\n",
       "      <th>Latitud</th>\n",
       "      <th>Longitud</th>\n",
       "      <th>Meta Mbps</th>\n",
       "    </tr>\n",
       "  </thead>\n",
       "  <tbody>\n",
       "    <tr>\n",
       "      <th>888</th>\n",
       "      <td>2015</td>\n",
       "      <td>1</td>\n",
       "      <td>Buenos Aires</td>\n",
       "      <td>4.323804</td>\n",
       "      <td>-36,6769</td>\n",
       "      <td>-60,5588</td>\n",
       "      <td>4.282922</td>\n",
       "    </tr>\n",
       "    <tr>\n",
       "      <th>864</th>\n",
       "      <td>2015</td>\n",
       "      <td>2</td>\n",
       "      <td>Buenos Aires</td>\n",
       "      <td>4.463496</td>\n",
       "      <td>-36,6769</td>\n",
       "      <td>-60,5588</td>\n",
       "      <td>4.410280</td>\n",
       "    </tr>\n",
       "    <tr>\n",
       "      <th>840</th>\n",
       "      <td>2015</td>\n",
       "      <td>3</td>\n",
       "      <td>Buenos Aires</td>\n",
       "      <td>4.700598</td>\n",
       "      <td>-36,6769</td>\n",
       "      <td>-60,5588</td>\n",
       "      <td>4.552766</td>\n",
       "    </tr>\n",
       "    <tr>\n",
       "      <th>816</th>\n",
       "      <td>2015</td>\n",
       "      <td>4</td>\n",
       "      <td>Buenos Aires</td>\n",
       "      <td>4.884149</td>\n",
       "      <td>-36,6769</td>\n",
       "      <td>-60,5588</td>\n",
       "      <td>4.794610</td>\n",
       "    </tr>\n",
       "    <tr>\n",
       "      <th>792</th>\n",
       "      <td>2016</td>\n",
       "      <td>1</td>\n",
       "      <td>Buenos Aires</td>\n",
       "      <td>4.992168</td>\n",
       "      <td>-36,6769</td>\n",
       "      <td>-60,5588</td>\n",
       "      <td>4.981832</td>\n",
       "    </tr>\n",
       "  </tbody>\n",
       "</table>\n",
       "</div>"
      ],
      "text/plain": [
       "      Año  Trimestre     Provincia      Mbps   Latitud  Longitud  Meta Mbps\n",
       "888  2015          1  Buenos Aires  4.323804  -36,6769  -60,5588   4.282922\n",
       "864  2015          2  Buenos Aires  4.463496  -36,6769  -60,5588   4.410280\n",
       "840  2015          3  Buenos Aires  4.700598  -36,6769  -60,5588   4.552766\n",
       "816  2015          4  Buenos Aires  4.884149  -36,6769  -60,5588   4.794610\n",
       "792  2016          1  Buenos Aires  4.992168  -36,6769  -60,5588   4.981832"
      ]
     },
     "execution_count": 3320,
     "metadata": {},
     "output_type": "execute_result"
    }
   ],
   "source": [
    "velocidad_porcent_prov[velocidad_porcent_prov['Año'] != 2014].head()"
   ]
  },
  {
   "cell_type": "code",
   "execution_count": 3321,
   "metadata": {},
   "outputs": [
    {
     "data": {
      "text/html": [
       "<div>\n",
       "<style scoped>\n",
       "    .dataframe tbody tr th:only-of-type {\n",
       "        vertical-align: middle;\n",
       "    }\n",
       "\n",
       "    .dataframe tbody tr th {\n",
       "        vertical-align: top;\n",
       "    }\n",
       "\n",
       "    .dataframe thead th {\n",
       "        text-align: right;\n",
       "    }\n",
       "</style>\n",
       "<table border=\"1\" class=\"dataframe\">\n",
       "  <thead>\n",
       "    <tr style=\"text-align: right;\">\n",
       "      <th></th>\n",
       "      <th>Año</th>\n",
       "      <th>Trimestre</th>\n",
       "      <th>Provincia</th>\n",
       "      <th>Mbps</th>\n",
       "      <th>Latitud</th>\n",
       "      <th>Longitud</th>\n",
       "      <th>Meta Mbps</th>\n",
       "    </tr>\n",
       "  </thead>\n",
       "  <tbody>\n",
       "    <tr>\n",
       "      <th>24</th>\n",
       "      <td>2024</td>\n",
       "      <td>1</td>\n",
       "      <td>Buenos Aires</td>\n",
       "      <td>159.13</td>\n",
       "      <td>-36,6769</td>\n",
       "      <td>-60,5588</td>\n",
       "      <td>161.6598</td>\n",
       "    </tr>\n",
       "    <tr>\n",
       "      <th>0</th>\n",
       "      <td>2024</td>\n",
       "      <td>2</td>\n",
       "      <td>Buenos Aires</td>\n",
       "      <td>157.41</td>\n",
       "      <td>-36,6769</td>\n",
       "      <td>-60,5588</td>\n",
       "      <td>162.3126</td>\n",
       "    </tr>\n",
       "    <tr>\n",
       "      <th>25</th>\n",
       "      <td>2024</td>\n",
       "      <td>1</td>\n",
       "      <td>Capital Federal</td>\n",
       "      <td>229.94</td>\n",
       "      <td>-34,6037</td>\n",
       "      <td>-58,3816</td>\n",
       "      <td>239.1288</td>\n",
       "    </tr>\n",
       "    <tr>\n",
       "      <th>1</th>\n",
       "      <td>2024</td>\n",
       "      <td>2</td>\n",
       "      <td>Capital Federal</td>\n",
       "      <td>233.01</td>\n",
       "      <td>-34,6037</td>\n",
       "      <td>-58,3816</td>\n",
       "      <td>234.5388</td>\n",
       "    </tr>\n",
       "    <tr>\n",
       "      <th>26</th>\n",
       "      <td>2024</td>\n",
       "      <td>1</td>\n",
       "      <td>Catamarca</td>\n",
       "      <td>91.45</td>\n",
       "      <td>-28,4696</td>\n",
       "      <td>-65,7795</td>\n",
       "      <td>91.1880</td>\n",
       "    </tr>\n",
       "  </tbody>\n",
       "</table>\n",
       "</div>"
      ],
      "text/plain": [
       "     Año  Trimestre        Provincia    Mbps   Latitud  Longitud  Meta Mbps\n",
       "24  2024          1     Buenos Aires  159.13  -36,6769  -60,5588   161.6598\n",
       "0   2024          2     Buenos Aires  157.41  -36,6769  -60,5588   162.3126\n",
       "25  2024          1  Capital Federal  229.94  -34,6037  -58,3816   239.1288\n",
       "1   2024          2  Capital Federal  233.01  -34,6037  -58,3816   234.5388\n",
       "26  2024          1        Catamarca   91.45  -28,4696  -65,7795    91.1880"
      ]
     },
     "execution_count": 3321,
     "metadata": {},
     "output_type": "execute_result"
    }
   ],
   "source": [
    "velocidad_porcent_prov[velocidad_porcent_prov['Año'] == 2024].head()"
   ]
  },
  {
   "cell_type": "code",
   "execution_count": 3322,
   "metadata": {},
   "outputs": [
    {
     "data": {
      "text/html": [
       "<div>\n",
       "<style scoped>\n",
       "    .dataframe tbody tr th:only-of-type {\n",
       "        vertical-align: middle;\n",
       "    }\n",
       "\n",
       "    .dataframe tbody tr th {\n",
       "        vertical-align: top;\n",
       "    }\n",
       "\n",
       "    .dataframe thead th {\n",
       "        text-align: right;\n",
       "    }\n",
       "</style>\n",
       "<table border=\"1\" class=\"dataframe\">\n",
       "  <thead>\n",
       "    <tr style=\"text-align: right;\">\n",
       "      <th></th>\n",
       "      <th>Año</th>\n",
       "      <th>Trimestre</th>\n",
       "      <th>Provincia</th>\n",
       "      <th>Mbps</th>\n",
       "      <th>Latitud</th>\n",
       "      <th>Longitud</th>\n",
       "      <th>Meta Mbps</th>\n",
       "    </tr>\n",
       "  </thead>\n",
       "  <tbody>\n",
       "    <tr>\n",
       "      <th>984</th>\n",
       "      <td>2014</td>\n",
       "      <td>1</td>\n",
       "      <td>Buenos Aires</td>\n",
       "      <td>3,73</td>\n",
       "      <td>-36,6769</td>\n",
       "      <td>-60,5588</td>\n",
       "      <td>0,00</td>\n",
       "    </tr>\n",
       "    <tr>\n",
       "      <th>960</th>\n",
       "      <td>2014</td>\n",
       "      <td>2</td>\n",
       "      <td>Buenos Aires</td>\n",
       "      <td>3,85</td>\n",
       "      <td>-36,6769</td>\n",
       "      <td>-60,5588</td>\n",
       "      <td>3,81</td>\n",
       "    </tr>\n",
       "    <tr>\n",
       "      <th>936</th>\n",
       "      <td>2014</td>\n",
       "      <td>3</td>\n",
       "      <td>Buenos Aires</td>\n",
       "      <td>3,97</td>\n",
       "      <td>-36,6769</td>\n",
       "      <td>-60,5588</td>\n",
       "      <td>3,93</td>\n",
       "    </tr>\n",
       "    <tr>\n",
       "      <th>912</th>\n",
       "      <td>2014</td>\n",
       "      <td>4</td>\n",
       "      <td>Buenos Aires</td>\n",
       "      <td>4,20</td>\n",
       "      <td>-36,6769</td>\n",
       "      <td>-60,5588</td>\n",
       "      <td>4,05</td>\n",
       "    </tr>\n",
       "    <tr>\n",
       "      <th>888</th>\n",
       "      <td>2015</td>\n",
       "      <td>1</td>\n",
       "      <td>Buenos Aires</td>\n",
       "      <td>4,32</td>\n",
       "      <td>-36,6769</td>\n",
       "      <td>-60,5588</td>\n",
       "      <td>4,28</td>\n",
       "    </tr>\n",
       "  </tbody>\n",
       "</table>\n",
       "</div>"
      ],
      "text/plain": [
       "      Año  Trimestre     Provincia  Mbps   Latitud  Longitud Meta Mbps\n",
       "984  2014          1  Buenos Aires  3,73  -36,6769  -60,5588      0,00\n",
       "960  2014          2  Buenos Aires  3,85  -36,6769  -60,5588      3,81\n",
       "936  2014          3  Buenos Aires  3,97  -36,6769  -60,5588      3,93\n",
       "912  2014          4  Buenos Aires  4,20  -36,6769  -60,5588      4,05\n",
       "888  2015          1  Buenos Aires  4,32  -36,6769  -60,5588      4,28"
      ]
     },
     "execution_count": 3322,
     "metadata": {},
     "output_type": "execute_result"
    }
   ],
   "source": [
    "# Se cambia punto decimal por coma para no tener problemas de lectura con PowerBI\n",
    "velocidad_porcent_prov['Mbps'] = velocidad_porcent_prov['Mbps'].apply(lambda x: f\"{x:.2f}\".replace('.', ','))\n",
    "velocidad_porcent_prov['Meta Mbps'] = velocidad_porcent_prov['Meta Mbps'].apply(lambda x: f\"{x:.2f}\".replace('.', ','))\n",
    "\n",
    "velocidad_porcent_prov.head()"
   ]
  },
  {
   "cell_type": "code",
   "execution_count": 3323,
   "metadata": {},
   "outputs": [],
   "source": [
    "velocidad_porcent_prov.to_csv(r'C:\\Users\\felip\\Desktop\\Stuff\\Cursos\\SoyHenry\\Clases\\LABS\\PI Data Analytics\\pida_fviera\\Datasets\\velocidad_porcent_prov.csv', index=False)"
   ]
  },
  {
   "cell_type": "code",
   "execution_count": 3324,
   "metadata": {},
   "outputs": [
    {
     "data": {
      "text/html": [
       "<div>\n",
       "<style scoped>\n",
       "    .dataframe tbody tr th:only-of-type {\n",
       "        vertical-align: middle;\n",
       "    }\n",
       "\n",
       "    .dataframe tbody tr th {\n",
       "        vertical-align: top;\n",
       "    }\n",
       "\n",
       "    .dataframe thead th {\n",
       "        text-align: right;\n",
       "    }\n",
       "</style>\n",
       "<table border=\"1\" class=\"dataframe\">\n",
       "  <thead>\n",
       "    <tr style=\"text-align: right;\">\n",
       "      <th></th>\n",
       "      <th>Año</th>\n",
       "      <th>Trimestre</th>\n",
       "      <th>Mbps (Media de bajada)</th>\n",
       "      <th>Trimestre.1</th>\n",
       "    </tr>\n",
       "  </thead>\n",
       "  <tbody>\n",
       "    <tr>\n",
       "      <th>0</th>\n",
       "      <td>2024</td>\n",
       "      <td>2</td>\n",
       "      <td>139.25</td>\n",
       "      <td>Abr-Jun 2024</td>\n",
       "    </tr>\n",
       "    <tr>\n",
       "      <th>1</th>\n",
       "      <td>2024</td>\n",
       "      <td>1</td>\n",
       "      <td>139.15</td>\n",
       "      <td>Ene-Mar 2024</td>\n",
       "    </tr>\n",
       "    <tr>\n",
       "      <th>2</th>\n",
       "      <td>2023</td>\n",
       "      <td>4</td>\n",
       "      <td>139.04</td>\n",
       "      <td>Oct-Dic 2023</td>\n",
       "    </tr>\n",
       "    <tr>\n",
       "      <th>3</th>\n",
       "      <td>2023</td>\n",
       "      <td>3</td>\n",
       "      <td>129.67</td>\n",
       "      <td>Jul-Sept 2023</td>\n",
       "    </tr>\n",
       "    <tr>\n",
       "      <th>4</th>\n",
       "      <td>2023</td>\n",
       "      <td>2</td>\n",
       "      <td>123.95</td>\n",
       "      <td>Abr-Jun 2023</td>\n",
       "    </tr>\n",
       "  </tbody>\n",
       "</table>\n",
       "</div>"
      ],
      "text/plain": [
       "    Año  Trimestre  Mbps (Media de bajada)    Trimestre.1\n",
       "0  2024          2                  139.25   Abr-Jun 2024\n",
       "1  2024          1                  139.15   Ene-Mar 2024\n",
       "2  2023          4                  139.04   Oct-Dic 2023\n",
       "3  2023          3                  129.67  Jul-Sept 2023\n",
       "4  2023          2                  123.95   Abr-Jun 2023"
      ]
     },
     "execution_count": 3324,
     "metadata": {},
     "output_type": "execute_result"
    }
   ],
   "source": [
    "totales_vmd.head()"
   ]
  },
  {
   "cell_type": "code",
   "execution_count": 3325,
   "metadata": {},
   "outputs": [
    {
     "data": {
      "text/html": [
       "<div>\n",
       "<style scoped>\n",
       "    .dataframe tbody tr th:only-of-type {\n",
       "        vertical-align: middle;\n",
       "    }\n",
       "\n",
       "    .dataframe tbody tr th {\n",
       "        vertical-align: top;\n",
       "    }\n",
       "\n",
       "    .dataframe thead th {\n",
       "        text-align: right;\n",
       "    }\n",
       "</style>\n",
       "<table border=\"1\" class=\"dataframe\">\n",
       "  <thead>\n",
       "    <tr style=\"text-align: right;\">\n",
       "      <th></th>\n",
       "      <th>Año</th>\n",
       "      <th>Trimestre</th>\n",
       "      <th>ADSL</th>\n",
       "      <th>Cablemodem</th>\n",
       "      <th>Fibra óptica</th>\n",
       "      <th>Wireless</th>\n",
       "      <th>Otros</th>\n",
       "      <th>Total</th>\n",
       "      <th>Periodo</th>\n",
       "    </tr>\n",
       "  </thead>\n",
       "  <tbody>\n",
       "    <tr>\n",
       "      <th>0</th>\n",
       "      <td>2024</td>\n",
       "      <td>2</td>\n",
       "      <td>733491</td>\n",
       "      <td>5867504</td>\n",
       "      <td>4169958</td>\n",
       "      <td>593197</td>\n",
       "      <td>191957</td>\n",
       "      <td>11556107</td>\n",
       "      <td>Abr-Jun 2024</td>\n",
       "    </tr>\n",
       "    <tr>\n",
       "      <th>1</th>\n",
       "      <td>2024</td>\n",
       "      <td>1</td>\n",
       "      <td>774475</td>\n",
       "      <td>5986957</td>\n",
       "      <td>4015101</td>\n",
       "      <td>598682</td>\n",
       "      <td>257941</td>\n",
       "      <td>11633156</td>\n",
       "      <td>Ene-Mar 2024</td>\n",
       "    </tr>\n",
       "    <tr>\n",
       "      <th>2</th>\n",
       "      <td>2023</td>\n",
       "      <td>4</td>\n",
       "      <td>836390</td>\n",
       "      <td>6022532</td>\n",
       "      <td>3908183</td>\n",
       "      <td>585760</td>\n",
       "      <td>194796</td>\n",
       "      <td>11547661</td>\n",
       "      <td>Oct-Dic 2023</td>\n",
       "    </tr>\n",
       "    <tr>\n",
       "      <th>3</th>\n",
       "      <td>2023</td>\n",
       "      <td>3</td>\n",
       "      <td>897895</td>\n",
       "      <td>6018832</td>\n",
       "      <td>3708718</td>\n",
       "      <td>581436</td>\n",
       "      <td>200027</td>\n",
       "      <td>11406908</td>\n",
       "      <td>Jul-Sept 2023</td>\n",
       "    </tr>\n",
       "    <tr>\n",
       "      <th>4</th>\n",
       "      <td>2023</td>\n",
       "      <td>2</td>\n",
       "      <td>1006509</td>\n",
       "      <td>5997149</td>\n",
       "      <td>3463988</td>\n",
       "      <td>581823</td>\n",
       "      <td>202428</td>\n",
       "      <td>11251897</td>\n",
       "      <td>Abr-Jun 2023</td>\n",
       "    </tr>\n",
       "  </tbody>\n",
       "</table>\n",
       "</div>"
      ],
      "text/plain": [
       "    Año  Trimestre     ADSL  Cablemodem  Fibra óptica  Wireless   Otros  \\\n",
       "0  2024          2   733491     5867504       4169958    593197  191957   \n",
       "1  2024          1   774475     5986957       4015101    598682  257941   \n",
       "2  2023          4   836390     6022532       3908183    585760  194796   \n",
       "3  2023          3   897895     6018832       3708718    581436  200027   \n",
       "4  2023          2  1006509     5997149       3463988    581823  202428   \n",
       "\n",
       "      Total        Periodo  \n",
       "0  11556107   Abr-Jun 2024  \n",
       "1  11633156   Ene-Mar 2024  \n",
       "2  11547661   Oct-Dic 2023  \n",
       "3  11406908  Jul-Sept 2023  \n",
       "4  11251897   Abr-Jun 2023  "
      ]
     },
     "execution_count": 3325,
     "metadata": {},
     "output_type": "execute_result"
    }
   ],
   "source": [
    "totales_accesos_tecnologia.head()"
   ]
  },
  {
   "cell_type": "markdown",
   "metadata": {},
   "source": [
    "## Acceso_por_tecnologia"
   ]
  },
  {
   "cell_type": "code",
   "execution_count": 3326,
   "metadata": {},
   "outputs": [
    {
     "data": {
      "text/html": [
       "<div>\n",
       "<style scoped>\n",
       "    .dataframe tbody tr th:only-of-type {\n",
       "        vertical-align: middle;\n",
       "    }\n",
       "\n",
       "    .dataframe tbody tr th {\n",
       "        vertical-align: top;\n",
       "    }\n",
       "\n",
       "    .dataframe thead th {\n",
       "        text-align: right;\n",
       "    }\n",
       "</style>\n",
       "<table border=\"1\" class=\"dataframe\">\n",
       "  <thead>\n",
       "    <tr style=\"text-align: right;\">\n",
       "      <th></th>\n",
       "      <th>Año</th>\n",
       "      <th>Trimestre</th>\n",
       "      <th>Provincia</th>\n",
       "      <th>ADSL</th>\n",
       "      <th>Cablemodem</th>\n",
       "      <th>Fibra óptica</th>\n",
       "      <th>Wireless</th>\n",
       "      <th>Otros</th>\n",
       "      <th>Total</th>\n",
       "    </tr>\n",
       "  </thead>\n",
       "  <tbody>\n",
       "    <tr>\n",
       "      <th>0</th>\n",
       "      <td>2024</td>\n",
       "      <td>2</td>\n",
       "      <td>Buenos Aires</td>\n",
       "      <td>214055.0</td>\n",
       "      <td>2722466.0</td>\n",
       "      <td>1849476.0</td>\n",
       "      <td>138638.0</td>\n",
       "      <td>64745.0</td>\n",
       "      <td>4989380.0</td>\n",
       "    </tr>\n",
       "    <tr>\n",
       "      <th>1</th>\n",
       "      <td>2024</td>\n",
       "      <td>2</td>\n",
       "      <td>Capital Federal</td>\n",
       "      <td>54102.0</td>\n",
       "      <td>1144781.0</td>\n",
       "      <td>230402.0</td>\n",
       "      <td>4493.0</td>\n",
       "      <td>29821.0</td>\n",
       "      <td>1463599.0</td>\n",
       "    </tr>\n",
       "    <tr>\n",
       "      <th>2</th>\n",
       "      <td>2024</td>\n",
       "      <td>2</td>\n",
       "      <td>Catamarca</td>\n",
       "      <td>4951.0</td>\n",
       "      <td>10303.0</td>\n",
       "      <td>58355.0</td>\n",
       "      <td>1384.0</td>\n",
       "      <td>81.0</td>\n",
       "      <td>75074.0</td>\n",
       "    </tr>\n",
       "    <tr>\n",
       "      <th>3</th>\n",
       "      <td>2024</td>\n",
       "      <td>2</td>\n",
       "      <td>Chaco</td>\n",
       "      <td>9448.0</td>\n",
       "      <td>57935.0</td>\n",
       "      <td>68944.0</td>\n",
       "      <td>8407.0</td>\n",
       "      <td>2358.0</td>\n",
       "      <td>147092.0</td>\n",
       "    </tr>\n",
       "    <tr>\n",
       "      <th>4</th>\n",
       "      <td>2024</td>\n",
       "      <td>2</td>\n",
       "      <td>Chubut</td>\n",
       "      <td>25955.0</td>\n",
       "      <td>80704.0</td>\n",
       "      <td>26516.0</td>\n",
       "      <td>31118.0</td>\n",
       "      <td>9930.0</td>\n",
       "      <td>174223.0</td>\n",
       "    </tr>\n",
       "  </tbody>\n",
       "</table>\n",
       "</div>"
      ],
      "text/plain": [
       "    Año Trimestre        Provincia      ADSL  Cablemodem  Fibra óptica  \\\n",
       "0  2024         2     Buenos Aires  214055.0   2722466.0     1849476.0   \n",
       "1  2024         2  Capital Federal   54102.0   1144781.0      230402.0   \n",
       "2  2024         2        Catamarca    4951.0     10303.0       58355.0   \n",
       "3  2024         2            Chaco    9448.0     57935.0       68944.0   \n",
       "4  2024         2           Chubut   25955.0     80704.0       26516.0   \n",
       "\n",
       "   Wireless    Otros      Total  \n",
       "0  138638.0  64745.0  4989380.0  \n",
       "1    4493.0  29821.0  1463599.0  \n",
       "2    1384.0     81.0    75074.0  \n",
       "3    8407.0   2358.0   147092.0  \n",
       "4   31118.0   9930.0   174223.0  "
      ]
     },
     "execution_count": 3326,
     "metadata": {},
     "output_type": "execute_result"
    }
   ],
   "source": [
    "accesos_por_tecnologia.head()"
   ]
  },
  {
   "cell_type": "code",
   "execution_count": 3327,
   "metadata": {},
   "outputs": [
    {
     "data": {
      "text/plain": [
       "Index(['Mendoza', 'Capital Federal', 'Tierra Del Fuego', 'Santiago Del Estero',\n",
       "       'Santa Fe', 'Santa Cruz', 'San Luis', 'San Juan', 'Salta', 'Río Negro',\n",
       "       'Neuquén', 'Misiones', 'Tucumán', 'La Rioja', 'La Pampa', 'Jujuy',\n",
       "       'Formosa', 'Entre Ríos', 'Corrientes', 'Córdoba', 'Chubut', 'Chaco',\n",
       "       'Catamarca', 'Buenos Aires'],\n",
       "      dtype='object', name='Provincia')"
      ]
     },
     "execution_count": 3327,
     "metadata": {},
     "output_type": "execute_result"
    }
   ],
   "source": [
    "accesos_por_tecnologia['Provincia'].value_counts().index"
   ]
  },
  {
   "cell_type": "code",
   "execution_count": 3328,
   "metadata": {},
   "outputs": [
    {
     "name": "stdout",
     "output_type": "stream",
     "text": [
      "True\n"
     ]
    }
   ],
   "source": [
    "# Revisamos si accesos_por_tecnologia['provincia'] requiere normalización. Output = True ==> no requiere normalización\n",
    "lista_1 = penetracion_poblacion['Provincia'].value_counts().index \n",
    "lista_2 = accesos_por_tecnologia['Provincia'].value_counts().index\n",
    "\n",
    "igual = set(lista_1) == set(lista_2)\n",
    "print(igual)"
   ]
  },
  {
   "cell_type": "code",
   "execution_count": 3329,
   "metadata": {},
   "outputs": [
    {
     "data": {
      "text/plain": [
       "Año             1\n",
       "Trimestre       1\n",
       "Provincia       2\n",
       "ADSL            2\n",
       "Cablemodem      2\n",
       "Fibra óptica    2\n",
       "Wireless        2\n",
       "Otros           2\n",
       "Total           2\n",
       "dtype: int64"
      ]
     },
     "execution_count": 3329,
     "metadata": {},
     "output_type": "execute_result"
    }
   ],
   "source": [
    "# Valores NaN por columna\n",
    "accesos_por_tecnologia.isna().sum()"
   ]
  },
  {
   "cell_type": "code",
   "execution_count": 3330,
   "metadata": {},
   "outputs": [
    {
     "data": {
      "text/html": [
       "<div>\n",
       "<style scoped>\n",
       "    .dataframe tbody tr th:only-of-type {\n",
       "        vertical-align: middle;\n",
       "    }\n",
       "\n",
       "    .dataframe tbody tr th {\n",
       "        vertical-align: top;\n",
       "    }\n",
       "\n",
       "    .dataframe thead th {\n",
       "        text-align: right;\n",
       "    }\n",
       "</style>\n",
       "<table border=\"1\" class=\"dataframe\">\n",
       "  <thead>\n",
       "    <tr style=\"text-align: right;\">\n",
       "      <th></th>\n",
       "      <th>Año</th>\n",
       "      <th>Trimestre</th>\n",
       "      <th>Provincia</th>\n",
       "      <th>ADSL</th>\n",
       "      <th>Cablemodem</th>\n",
       "      <th>Fibra óptica</th>\n",
       "      <th>Wireless</th>\n",
       "      <th>Otros</th>\n",
       "      <th>Total</th>\n",
       "    </tr>\n",
       "  </thead>\n",
       "  <tbody>\n",
       "    <tr>\n",
       "      <th>1007</th>\n",
       "      <td>NaN</td>\n",
       "      <td>NaN</td>\n",
       "      <td>NaN</td>\n",
       "      <td>NaN</td>\n",
       "      <td>NaN</td>\n",
       "      <td>NaN</td>\n",
       "      <td>NaN</td>\n",
       "      <td>NaN</td>\n",
       "      <td>NaN</td>\n",
       "    </tr>\n",
       "  </tbody>\n",
       "</table>\n",
       "</div>"
      ],
      "text/plain": [
       "      Año Trimestre Provincia  ADSL  Cablemodem  Fibra óptica  Wireless  \\\n",
       "1007  NaN       NaN       NaN   NaN         NaN           NaN       NaN   \n",
       "\n",
       "      Otros  Total  \n",
       "1007    NaN    NaN  "
      ]
     },
     "execution_count": 3330,
     "metadata": {},
     "output_type": "execute_result"
    }
   ],
   "source": [
    "# Ubicación de valores NaN\n",
    "accesos_por_tecnologia[accesos_por_tecnologia['Año'].isna() == True]"
   ]
  },
  {
   "cell_type": "code",
   "execution_count": 3331,
   "metadata": {},
   "outputs": [
    {
     "data": {
      "text/html": [
       "<div>\n",
       "<style scoped>\n",
       "    .dataframe tbody tr th:only-of-type {\n",
       "        vertical-align: middle;\n",
       "    }\n",
       "\n",
       "    .dataframe tbody tr th {\n",
       "        vertical-align: top;\n",
       "    }\n",
       "\n",
       "    .dataframe thead th {\n",
       "        text-align: right;\n",
       "    }\n",
       "</style>\n",
       "<table border=\"1\" class=\"dataframe\">\n",
       "  <thead>\n",
       "    <tr style=\"text-align: right;\">\n",
       "      <th></th>\n",
       "      <th>Año</th>\n",
       "      <th>Trimestre</th>\n",
       "      <th>Provincia</th>\n",
       "      <th>ADSL</th>\n",
       "      <th>Cablemodem</th>\n",
       "      <th>Fibra óptica</th>\n",
       "      <th>Wireless</th>\n",
       "      <th>Otros</th>\n",
       "      <th>Total</th>\n",
       "    </tr>\n",
       "  </thead>\n",
       "  <tbody>\n",
       "    <tr>\n",
       "      <th>1007</th>\n",
       "      <td>NaN</td>\n",
       "      <td>NaN</td>\n",
       "      <td>NaN</td>\n",
       "      <td>NaN</td>\n",
       "      <td>NaN</td>\n",
       "      <td>NaN</td>\n",
       "      <td>NaN</td>\n",
       "      <td>NaN</td>\n",
       "      <td>NaN</td>\n",
       "    </tr>\n",
       "    <tr>\n",
       "      <th>1008</th>\n",
       "      <td>*</td>\n",
       "      <td>Los datos provinciales no coinciden a nivel na...</td>\n",
       "      <td>NaN</td>\n",
       "      <td>NaN</td>\n",
       "      <td>NaN</td>\n",
       "      <td>NaN</td>\n",
       "      <td>NaN</td>\n",
       "      <td>NaN</td>\n",
       "      <td>NaN</td>\n",
       "    </tr>\n",
       "  </tbody>\n",
       "</table>\n",
       "</div>"
      ],
      "text/plain": [
       "      Año                                          Trimestre Provincia  ADSL  \\\n",
       "1007  NaN                                                NaN       NaN   NaN   \n",
       "1008    *  Los datos provinciales no coinciden a nivel na...       NaN   NaN   \n",
       "\n",
       "      Cablemodem  Fibra óptica  Wireless  Otros  Total  \n",
       "1007         NaN           NaN       NaN    NaN    NaN  \n",
       "1008         NaN           NaN       NaN    NaN    NaN  "
      ]
     },
     "execution_count": 3331,
     "metadata": {},
     "output_type": "execute_result"
    }
   ],
   "source": [
    "# Ubicación de valores NaN\n",
    "accesos_por_tecnologia[accesos_por_tecnologia['ADSL'].isna() == True]"
   ]
  },
  {
   "cell_type": "code",
   "execution_count": 3332,
   "metadata": {},
   "outputs": [],
   "source": [
    "# Eliminar filas con valores NaN\n",
    "accesos_por_tecnologia = accesos_por_tecnologia.dropna()"
   ]
  },
  {
   "cell_type": "code",
   "execution_count": 3333,
   "metadata": {},
   "outputs": [
    {
     "data": {
      "text/plain": [
       "Año\n",
       "2023      96\n",
       "2022      96\n",
       "2021      96\n",
       "2020      96\n",
       "2018      96\n",
       "2017      96\n",
       "2016      96\n",
       "2015      96\n",
       "2014      96\n",
       "2019 *    72\n",
       "2024      47\n",
       "2019      24\n",
       "Name: count, dtype: int64"
      ]
     },
     "execution_count": 3333,
     "metadata": {},
     "output_type": "execute_result"
    }
   ],
   "source": [
    "# Normalización de 'Año'\n",
    "accesos_por_tecnologia['Año'].value_counts()"
   ]
  },
  {
   "cell_type": "code",
   "execution_count": 3334,
   "metadata": {},
   "outputs": [],
   "source": [
    "# Normalización de 'Año'\n",
    "accesos_por_tecnologia['Año'] = accesos_por_tecnologia['Año'].replace({'2019 *': 2019})"
   ]
  },
  {
   "cell_type": "code",
   "execution_count": 3335,
   "metadata": {},
   "outputs": [
    {
     "data": {
      "text/plain": [
       "Trimestre\n",
       "2      240\n",
       "4      240\n",
       "1      239\n",
       "3      216\n",
       "3 *     24\n",
       "2 *     24\n",
       "1 *     24\n",
       "Name: count, dtype: int64"
      ]
     },
     "execution_count": 3335,
     "metadata": {},
     "output_type": "execute_result"
    }
   ],
   "source": [
    "# Normalización de 'Trimestre'\n",
    "accesos_por_tecnologia['Trimestre'].value_counts()"
   ]
  },
  {
   "cell_type": "code",
   "execution_count": 3336,
   "metadata": {},
   "outputs": [],
   "source": [
    "# Normalización de 'Trimestre'\n",
    "accesos_por_tecnologia['Trimestre'] = accesos_por_tecnologia['Trimestre'].replace({'3 *' : 3, '2 *': 2, '1 *': 1})"
   ]
  },
  {
   "cell_type": "markdown",
   "metadata": {},
   "source": [
    "### Distribución y outliers 'ADSL'"
   ]
  },
  {
   "cell_type": "code",
   "execution_count": 3337,
   "metadata": {},
   "outputs": [
    {
     "data": {
      "image/png": "[encoded data removed]",
      "text/plain": [
       "<Figure size 600x500 with 1 Axes>"
      ]
     },
     "metadata": {},
     "output_type": "display_data"
    }
   ],
   "source": [
    "plt.figure(figsize=(6,5))\n",
    "sns.histplot(accesos_por_tecnologia['ADSL'], kde=True)\n",
    "plt.title('Distribución de acceso a ADSL')\n",
    "plt.show()"
   ]
  },
  {
   "cell_type": "markdown",
   "metadata": {},
   "source": [
    "### (Exlpicar)"
   ]
  },
  {
   "cell_type": "code",
   "execution_count": 3338,
   "metadata": {},
   "outputs": [
    {
     "data": {
      "image/png": "[encoded data removed]",
      "text/plain": [
       "<Figure size 800x300 with 1 Axes>"
      ]
     },
     "metadata": {},
     "output_type": "display_data"
    }
   ],
   "source": [
    "plt.figure(figsize=(8,3))\n",
    "sns.boxplot(data=accesos_por_tecnologia, x='ADSL')\n",
    "plt.show()"
   ]
  },
  {
   "cell_type": "markdown",
   "metadata": {},
   "source": [
    "### (Exlpicar)"
   ]
  },
  {
   "cell_type": "code",
   "execution_count": 3339,
   "metadata": {},
   "outputs": [
    {
     "data": {
      "text/html": [
       "<div>\n",
       "<style scoped>\n",
       "    .dataframe tbody tr th:only-of-type {\n",
       "        vertical-align: middle;\n",
       "    }\n",
       "\n",
       "    .dataframe tbody tr th {\n",
       "        vertical-align: top;\n",
       "    }\n",
       "\n",
       "    .dataframe thead th {\n",
       "        text-align: right;\n",
       "    }\n",
       "</style>\n",
       "<table border=\"1\" class=\"dataframe\">\n",
       "  <thead>\n",
       "    <tr style=\"text-align: right;\">\n",
       "      <th></th>\n",
       "      <th>Año</th>\n",
       "      <th>Trimestre</th>\n",
       "      <th>Provincia</th>\n",
       "      <th>ADSL</th>\n",
       "      <th>Cablemodem</th>\n",
       "      <th>Fibra óptica</th>\n",
       "      <th>Wireless</th>\n",
       "      <th>Otros</th>\n",
       "      <th>Total</th>\n",
       "    </tr>\n",
       "  </thead>\n",
       "  <tbody>\n",
       "    <tr>\n",
       "      <th>815</th>\n",
       "      <td>2015</td>\n",
       "      <td>4</td>\n",
       "      <td>Buenos Aires</td>\n",
       "      <td>1586343.0</td>\n",
       "      <td>1223603.0</td>\n",
       "      <td>103269.0</td>\n",
       "      <td>20397.0</td>\n",
       "      <td>25773.0</td>\n",
       "      <td>2959385.0</td>\n",
       "    </tr>\n",
       "    <tr>\n",
       "      <th>839</th>\n",
       "      <td>2015</td>\n",
       "      <td>3</td>\n",
       "      <td>Buenos Aires</td>\n",
       "      <td>1585467.0</td>\n",
       "      <td>1183894.0</td>\n",
       "      <td>113590.0</td>\n",
       "      <td>19989.0</td>\n",
       "      <td>25825.0</td>\n",
       "      <td>2928765.0</td>\n",
       "    </tr>\n",
       "    <tr>\n",
       "      <th>791</th>\n",
       "      <td>2016</td>\n",
       "      <td>1</td>\n",
       "      <td>Buenos Aires</td>\n",
       "      <td>1583560.0</td>\n",
       "      <td>1200859.0</td>\n",
       "      <td>111231.0</td>\n",
       "      <td>21108.0</td>\n",
       "      <td>25757.0</td>\n",
       "      <td>2942515.0</td>\n",
       "    </tr>\n",
       "    <tr>\n",
       "      <th>887</th>\n",
       "      <td>2015</td>\n",
       "      <td>1</td>\n",
       "      <td>Buenos Aires</td>\n",
       "      <td>1583135.0</td>\n",
       "      <td>1096836.0</td>\n",
       "      <td>134177.0</td>\n",
       "      <td>18754.0</td>\n",
       "      <td>28940.0</td>\n",
       "      <td>2861842.0</td>\n",
       "    </tr>\n",
       "    <tr>\n",
       "      <th>863</th>\n",
       "      <td>2015</td>\n",
       "      <td>2</td>\n",
       "      <td>Buenos Aires</td>\n",
       "      <td>1581770.0</td>\n",
       "      <td>1141052.0</td>\n",
       "      <td>115660.0</td>\n",
       "      <td>19268.0</td>\n",
       "      <td>26040.0</td>\n",
       "      <td>2883790.0</td>\n",
       "    </tr>\n",
       "  </tbody>\n",
       "</table>\n",
       "</div>"
      ],
      "text/plain": [
       "      Año  Trimestre     Provincia       ADSL  Cablemodem  Fibra óptica  \\\n",
       "815  2015          4  Buenos Aires  1586343.0   1223603.0      103269.0   \n",
       "839  2015          3  Buenos Aires  1585467.0   1183894.0      113590.0   \n",
       "791  2016          1  Buenos Aires  1583560.0   1200859.0      111231.0   \n",
       "887  2015          1  Buenos Aires  1583135.0   1096836.0      134177.0   \n",
       "863  2015          2  Buenos Aires  1581770.0   1141052.0      115660.0   \n",
       "\n",
       "     Wireless    Otros      Total  \n",
       "815   20397.0  25773.0  2959385.0  \n",
       "839   19989.0  25825.0  2928765.0  \n",
       "791   21108.0  25757.0  2942515.0  \n",
       "887   18754.0  28940.0  2861842.0  \n",
       "863   19268.0  26040.0  2883790.0  "
      ]
     },
     "execution_count": 3339,
     "metadata": {},
     "output_type": "execute_result"
    }
   ],
   "source": [
    "# Se define outliers como todos los datos por debajo y por sobre (1.5 * Rangos intercuartiles)\n",
    "Q1 = accesos_por_tecnologia['ADSL'].quantile(0.25)\n",
    "Q3 = accesos_por_tecnologia['ADSL'].quantile(0.75)\n",
    "\n",
    "IQR = Q3 - Q1\n",
    "\n",
    "limite_inferior = Q1 - 1.5 * IQR\n",
    "limite_superior = Q3 + 1.5 * IQR\n",
    "\n",
    "outliers = accesos_por_tecnologia[(accesos_por_tecnologia['ADSL'] < limite_inferior) | (accesos_por_tecnologia['ADSL'] > limite_superior)]\n",
    "\n",
    "outliers.sort_values(by='ADSL' ,ascending=False).head()"
   ]
  },
  {
   "cell_type": "markdown",
   "metadata": {},
   "source": [
    "### Conclusión Outliers ADSL"
   ]
  },
  {
   "cell_type": "markdown",
   "metadata": {},
   "source": [
    "* Considerando que los outliers de mayor magnitud se concentran en Buenos Aires y en Capital Federal, los cuales son zonas demográficamente densas, no se considerarán como outliers."
   ]
  },
  {
   "cell_type": "markdown",
   "metadata": {},
   "source": [
    "### Distribución y outliers 'Cablemodem'"
   ]
  },
  {
   "cell_type": "code",
   "execution_count": 3340,
   "metadata": {},
   "outputs": [
    {
     "data": {
      "image/png": "[encoded data removed]",
      "text/plain": [
       "<Figure size 500x400 with 1 Axes>"
      ]
     },
     "metadata": {},
     "output_type": "display_data"
    }
   ],
   "source": [
    "plt.figure(figsize=(5,4))\n",
    "sns.histplot(accesos_por_tecnologia['Cablemodem'], kde=True)\n",
    "plt.title('Distribución de acceso a Cablemodem')\n",
    "plt.show()"
   ]
  },
  {
   "cell_type": "markdown",
   "metadata": {},
   "source": [
    "### (Exlpicar)"
   ]
  },
  {
   "cell_type": "code",
   "execution_count": 3341,
   "metadata": {},
   "outputs": [
    {
     "data": {
      "image/png": "[encoded data removed]",
      "text/plain": [
       "<Figure size 800x300 with 1 Axes>"
      ]
     },
     "metadata": {},
     "output_type": "display_data"
    }
   ],
   "source": [
    "plt.figure(figsize=(8,3))\n",
    "sns.boxplot(data=accesos_por_tecnologia, x='Cablemodem')\n",
    "plt.show()"
   ]
  },
  {
   "cell_type": "markdown",
   "metadata": {},
   "source": [
    "### (Explicar)"
   ]
  },
  {
   "cell_type": "code",
   "execution_count": 3342,
   "metadata": {},
   "outputs": [
    {
     "data": {
      "text/html": [
       "<div>\n",
       "<style scoped>\n",
       "    .dataframe tbody tr th:only-of-type {\n",
       "        vertical-align: middle;\n",
       "    }\n",
       "\n",
       "    .dataframe tbody tr th {\n",
       "        vertical-align: top;\n",
       "    }\n",
       "\n",
       "    .dataframe thead th {\n",
       "        text-align: right;\n",
       "    }\n",
       "</style>\n",
       "<table border=\"1\" class=\"dataframe\">\n",
       "  <thead>\n",
       "    <tr style=\"text-align: right;\">\n",
       "      <th></th>\n",
       "      <th>Año</th>\n",
       "      <th>Trimestre</th>\n",
       "      <th>Provincia</th>\n",
       "      <th>ADSL</th>\n",
       "      <th>Cablemodem</th>\n",
       "      <th>Fibra óptica</th>\n",
       "      <th>Wireless</th>\n",
       "      <th>Otros</th>\n",
       "      <th>Total</th>\n",
       "    </tr>\n",
       "  </thead>\n",
       "  <tbody>\n",
       "    <tr>\n",
       "      <th>47</th>\n",
       "      <td>2023</td>\n",
       "      <td>4</td>\n",
       "      <td>Buenos Aires</td>\n",
       "      <td>223391.0</td>\n",
       "      <td>2797700.0</td>\n",
       "      <td>1784593.0</td>\n",
       "      <td>137993.0</td>\n",
       "      <td>67943.0</td>\n",
       "      <td>5011620.0</td>\n",
       "    </tr>\n",
       "    <tr>\n",
       "      <th>71</th>\n",
       "      <td>2023</td>\n",
       "      <td>3</td>\n",
       "      <td>Buenos Aires</td>\n",
       "      <td>237705.0</td>\n",
       "      <td>2784175.0</td>\n",
       "      <td>1740239.0</td>\n",
       "      <td>137921.0</td>\n",
       "      <td>68197.0</td>\n",
       "      <td>4968237.0</td>\n",
       "    </tr>\n",
       "    <tr>\n",
       "      <th>143</th>\n",
       "      <td>2022</td>\n",
       "      <td>4</td>\n",
       "      <td>Buenos Aires</td>\n",
       "      <td>325908.0</td>\n",
       "      <td>2767247.0</td>\n",
       "      <td>1499149.0</td>\n",
       "      <td>129910.0</td>\n",
       "      <td>72451.0</td>\n",
       "      <td>4794665.0</td>\n",
       "    </tr>\n",
       "    <tr>\n",
       "      <th>95</th>\n",
       "      <td>2023</td>\n",
       "      <td>2</td>\n",
       "      <td>Buenos Aires</td>\n",
       "      <td>265537.0</td>\n",
       "      <td>2766463.0</td>\n",
       "      <td>1645945.0</td>\n",
       "      <td>138405.0</td>\n",
       "      <td>69138.0</td>\n",
       "      <td>4885488.0</td>\n",
       "    </tr>\n",
       "    <tr>\n",
       "      <th>119</th>\n",
       "      <td>2023</td>\n",
       "      <td>1</td>\n",
       "      <td>Buenos Aires</td>\n",
       "      <td>304583.0</td>\n",
       "      <td>2761043.0</td>\n",
       "      <td>1551074.0</td>\n",
       "      <td>132458.0</td>\n",
       "      <td>71770.0</td>\n",
       "      <td>4820928.0</td>\n",
       "    </tr>\n",
       "  </tbody>\n",
       "</table>\n",
       "</div>"
      ],
      "text/plain": [
       "      Año  Trimestre     Provincia      ADSL  Cablemodem  Fibra óptica  \\\n",
       "47   2023          4  Buenos Aires  223391.0   2797700.0     1784593.0   \n",
       "71   2023          3  Buenos Aires  237705.0   2784175.0     1740239.0   \n",
       "143  2022          4  Buenos Aires  325908.0   2767247.0     1499149.0   \n",
       "95   2023          2  Buenos Aires  265537.0   2766463.0     1645945.0   \n",
       "119  2023          1  Buenos Aires  304583.0   2761043.0     1551074.0   \n",
       "\n",
       "     Wireless    Otros      Total  \n",
       "47   137993.0  67943.0  5011620.0  \n",
       "71   137921.0  68197.0  4968237.0  \n",
       "143  129910.0  72451.0  4794665.0  \n",
       "95   138405.0  69138.0  4885488.0  \n",
       "119  132458.0  71770.0  4820928.0  "
      ]
     },
     "execution_count": 3342,
     "metadata": {},
     "output_type": "execute_result"
    }
   ],
   "source": [
    "# Se define outliers como todos los datos por debajo y por sobre (1.5 * Rangos intercuartiles)\n",
    "Q1 = accesos_por_tecnologia['Cablemodem'].quantile(0.25)\n",
    "Q3 = accesos_por_tecnologia['Cablemodem'].quantile(0.75)\n",
    "\n",
    "IQR = Q3 - Q1\n",
    "\n",
    "limite_inferior = Q1 - 1.5 * IQR\n",
    "limite_superior = Q3 + 1.5 * IQR\n",
    "\n",
    "outliers = accesos_por_tecnologia[(accesos_por_tecnologia['Cablemodem'] < limite_inferior) | (accesos_por_tecnologia['Cablemodem'] > limite_superior)]\n",
    "\n",
    "outliers.sort_values(by='Cablemodem' ,ascending=False).head()"
   ]
  },
  {
   "cell_type": "markdown",
   "metadata": {},
   "source": [
    "### Conclusión Outliers Cablemodem"
   ]
  },
  {
   "cell_type": "markdown",
   "metadata": {},
   "source": [
    "* Considerando que los outliers de mayor magnitud se concentran en Buenos Aires y en Capital Federal, los cuales son zonas demográficamente densas, no se considerarán como outliers."
   ]
  },
  {
   "cell_type": "markdown",
   "metadata": {},
   "source": [
    "### Distribución y outliers 'Fibra óptica'"
   ]
  },
  {
   "cell_type": "code",
   "execution_count": 3343,
   "metadata": {},
   "outputs": [],
   "source": [
    "accesos_por_tecnologia = accesos_por_tecnologia.rename(columns={'Fibra óptica': 'Fibra optica'})"
   ]
  },
  {
   "cell_type": "code",
   "execution_count": 3344,
   "metadata": {},
   "outputs": [
    {
     "data": {
      "text/plain": [
       "count    1.007000e+03\n",
       "mean     4.855699e+04\n",
       "std      1.758694e+05\n",
       "min      0.000000e+00\n",
       "25%      3.540000e+02\n",
       "50%      3.015000e+03\n",
       "75%      2.925700e+04\n",
       "max      1.849476e+06\n",
       "Name: Fibra optica, dtype: float64"
      ]
     },
     "execution_count": 3344,
     "metadata": {},
     "output_type": "execute_result"
    }
   ],
   "source": [
    "accesos_por_tecnologia['Fibra optica'].describe()"
   ]
  },
  {
   "cell_type": "code",
   "execution_count": 3345,
   "metadata": {},
   "outputs": [
    {
     "data": {
      "image/png": "[encoded data removed]",
      "text/plain": [
       "<Figure size 500x400 with 1 Axes>"
      ]
     },
     "metadata": {},
     "output_type": "display_data"
    }
   ],
   "source": [
    "plt.figure(figsize=(5,4))\n",
    "sns.histplot(accesos_por_tecnologia['Fibra optica'], kde=True)\n",
    "plt.title('Distribución de acceso a Fibra optica')\n",
    "plt.show()"
   ]
  },
  {
   "cell_type": "markdown",
   "metadata": {},
   "source": [
    "### (Explicar)"
   ]
  },
  {
   "cell_type": "code",
   "execution_count": 3346,
   "metadata": {},
   "outputs": [
    {
     "data": {
      "image/png": "[encoded data removed]",
      "text/plain": [
       "<Figure size 800x300 with 1 Axes>"
      ]
     },
     "metadata": {},
     "output_type": "display_data"
    }
   ],
   "source": [
    "plt.figure(figsize=(8,3))\n",
    "sns.boxplot(data=accesos_por_tecnologia, x='Fibra optica')\n",
    "plt.show()"
   ]
  },
  {
   "cell_type": "markdown",
   "metadata": {},
   "source": [
    "### (Explicar)"
   ]
  },
  {
   "cell_type": "code",
   "execution_count": 3347,
   "metadata": {},
   "outputs": [
    {
     "data": {
      "text/plain": [
       "(280, 9)"
      ]
     },
     "execution_count": 3347,
     "metadata": {},
     "output_type": "execute_result"
    }
   ],
   "source": [
    "# Se define outliers como todos los datos por debajo y por sobre (1.5 * Rangos intercuartiles)\n",
    "Q1 = accesos_por_tecnologia['Fibra optica'].quantile(0.25)\n",
    "Q3 = accesos_por_tecnologia['Fibra optica'].quantile(0.75)\n",
    "\n",
    "IQR = Q3 - Q1\n",
    "\n",
    "limite_inferior = Q1 - 1.5 * IQR\n",
    "limite_superior = Q3 + 1.5 * IQR\n",
    "\n",
    "outliers = accesos_por_tecnologia[(accesos_por_tecnologia['Fibra optica'] < limite_inferior) | (accesos_por_tecnologia['ADSL'] > limite_superior)]\n",
    "\n",
    "outliers.shape"
   ]
  },
  {
   "cell_type": "markdown",
   "metadata": {},
   "source": [
    "### Conclusión Outliers Fibra optica"
   ]
  },
  {
   "cell_type": "markdown",
   "metadata": {},
   "source": [
    "* Considerando que los outliers de mayor magnitud se concentran en Buenos Aires, la cual es una zona demográficamente densa, no se considerarán como outliers."
   ]
  },
  {
   "cell_type": "markdown",
   "metadata": {},
   "source": [
    "### Distribución y outliers Wireless"
   ]
  },
  {
   "cell_type": "code",
   "execution_count": 3348,
   "metadata": {},
   "outputs": [
    {
     "data": {
      "image/png": "[encoded data removed]",
      "text/plain": [
       "<Figure size 500x400 with 1 Axes>"
      ]
     },
     "metadata": {},
     "output_type": "display_data"
    }
   ],
   "source": [
    "plt.figure(figsize=(5,4))\n",
    "sns.histplot(accesos_por_tecnologia['Wireless'], kde=True)\n",
    "plt.title('Distribución de acceso a Wireless')\n",
    "plt.show()"
   ]
  },
  {
   "cell_type": "markdown",
   "metadata": {},
   "source": [
    "### (Explicar)"
   ]
  },
  {
   "cell_type": "markdown",
   "metadata": {},
   "source": [
    "### Conclusión Outliers Wireless"
   ]
  },
  {
   "cell_type": "code",
   "execution_count": 3349,
   "metadata": {},
   "outputs": [
    {
     "data": {
      "image/png": "[encoded data removed]",
      "text/plain": [
       "<Figure size 600x500 with 1 Axes>"
      ]
     },
     "metadata": {},
     "output_type": "display_data"
    }
   ],
   "source": [
    "plt.figure(figsize=(6,5))\n",
    "sns.histplot(accesos_por_tecnologia['Wireless'], kde=True)\n",
    "plt.title('Distribución de acceso a Wireless')\n",
    "plt.show()"
   ]
  },
  {
   "cell_type": "markdown",
   "metadata": {},
   "source": [
    "### (Explicar)"
   ]
  },
  {
   "cell_type": "code",
   "execution_count": 3350,
   "metadata": {},
   "outputs": [
    {
     "data": {
      "image/png": "[encoded data removed]",
      "text/plain": [
       "<Figure size 800x300 with 1 Axes>"
      ]
     },
     "metadata": {},
     "output_type": "display_data"
    }
   ],
   "source": [
    "plt.figure(figsize=(8,3))\n",
    "sns.boxplot(data=accesos_por_tecnologia, x='Wireless')\n",
    "plt.show()"
   ]
  },
  {
   "cell_type": "markdown",
   "metadata": {},
   "source": [
    "### (Explicar)"
   ]
  },
  {
   "cell_type": "code",
   "execution_count": 3351,
   "metadata": {},
   "outputs": [
    {
     "data": {
      "text/plain": [
       "(87, 9)"
      ]
     },
     "execution_count": 3351,
     "metadata": {},
     "output_type": "execute_result"
    }
   ],
   "source": [
    "# Se define outliers como todos los datos por debajo y por sobre (1.5 * Rangos intercuartiles)\n",
    "Q1 = accesos_por_tecnologia['Wireless'].quantile(0.25)\n",
    "Q3 = accesos_por_tecnologia['Wireless'].quantile(0.75)\n",
    "\n",
    "IQR = Q3 - Q1\n",
    "\n",
    "limite_inferior = Q1 - 1.5 * IQR\n",
    "limite_superior = Q3 + 1.5 * IQR\n",
    "\n",
    "outliers = accesos_por_tecnologia[(accesos_por_tecnologia['Wireless'] < limite_inferior) | (accesos_por_tecnologia['Wireless'] > limite_superior)]\n",
    "\n",
    "outliers.shape"
   ]
  },
  {
   "cell_type": "markdown",
   "metadata": {},
   "source": [
    "### Conclusión Outliers Wireless"
   ]
  },
  {
   "cell_type": "markdown",
   "metadata": {},
   "source": [
    "* Considerando que los outliers de mayor magnitud se concentran en Buenos Aires, la cual es una zona demográficamente densa, no se considerarán como outliers."
   ]
  },
  {
   "cell_type": "markdown",
   "metadata": {},
   "source": [
    "### Distribución y outliers 'Otros'"
   ]
  },
  {
   "cell_type": "code",
   "execution_count": 3352,
   "metadata": {},
   "outputs": [
    {
     "data": {
      "image/png": "[encoded data removed]",
      "text/plain": [
       "<Figure size 600x500 with 1 Axes>"
      ]
     },
     "metadata": {},
     "output_type": "display_data"
    }
   ],
   "source": [
    "plt.figure(figsize=(6,5))\n",
    "sns.histplot(accesos_por_tecnologia['Otros'], kde=True)\n",
    "plt.title('Distribución de acceso a Otros')\n",
    "plt.show()"
   ]
  },
  {
   "cell_type": "markdown",
   "metadata": {},
   "source": [
    "### (Explicar)"
   ]
  },
  {
   "cell_type": "code",
   "execution_count": 3353,
   "metadata": {},
   "outputs": [
    {
     "data": {
      "image/png": "[encoded data removed]",
      "text/plain": [
       "<Figure size 800x300 with 1 Axes>"
      ]
     },
     "metadata": {},
     "output_type": "display_data"
    }
   ],
   "source": [
    "plt.figure(figsize=(8,3))\n",
    "sns.boxplot(data=accesos_por_tecnologia, x='Otros')\n",
    "plt.show()"
   ]
  },
  {
   "cell_type": "markdown",
   "metadata": {},
   "source": [
    "### (Explicar)"
   ]
  },
  {
   "cell_type": "code",
   "execution_count": 3354,
   "metadata": {},
   "outputs": [
    {
     "data": {
      "text/plain": [
       "(109, 9)"
      ]
     },
     "execution_count": 3354,
     "metadata": {},
     "output_type": "execute_result"
    }
   ],
   "source": [
    "# Se define outliers como todos los datos por debajo y por sobre (1.5 * Rangos intercuartiles)\n",
    "Q1 = accesos_por_tecnologia['Otros'].quantile(0.25)\n",
    "Q3 = accesos_por_tecnologia['Otros'].quantile(0.75)\n",
    "\n",
    "IQR = Q3 - Q1\n",
    "\n",
    "limite_inferior = Q1 - 1.5 * IQR\n",
    "limite_superior = Q3 + 1.5 * IQR\n",
    "\n",
    "outliers = accesos_por_tecnologia[(accesos_por_tecnologia['Otros'] < limite_inferior) | (accesos_por_tecnologia['Otros'] > limite_superior)]\n",
    "\n",
    "outliers.shape"
   ]
  },
  {
   "cell_type": "markdown",
   "metadata": {},
   "source": [
    "### Conclusión Outliers Otros"
   ]
  },
  {
   "cell_type": "markdown",
   "metadata": {},
   "source": [
    "* Considerando que los outliers de mayor magnitud se concentran en Buenos Aires y en Capital Federal, los cuales son zonas demográficamente densas, no se considerarán como outliers."
   ]
  },
  {
   "cell_type": "markdown",
   "metadata": {},
   "source": [
    "### Distribución y outliers 'Total'"
   ]
  },
  {
   "cell_type": "code",
   "execution_count": 3355,
   "metadata": {},
   "outputs": [
    {
     "data": {
      "image/png": "[encoded data removed]",
      "text/plain": [
       "<Figure size 600x500 with 1 Axes>"
      ]
     },
     "metadata": {},
     "output_type": "display_data"
    }
   ],
   "source": [
    "plt.figure(figsize=(6,5))\n",
    "sns.histplot(accesos_por_tecnologia['Total'], kde=True)\n",
    "plt.title('Distribución de acceso a Total')\n",
    "plt.show()"
   ]
  },
  {
   "cell_type": "markdown",
   "metadata": {},
   "source": [
    "### (Explicar)"
   ]
  },
  {
   "cell_type": "code",
   "execution_count": 3356,
   "metadata": {},
   "outputs": [
    {
     "data": {
      "image/png": "[encoded data removed]",
      "text/plain": [
       "<Figure size 800x300 with 1 Axes>"
      ]
     },
     "metadata": {},
     "output_type": "display_data"
    }
   ],
   "source": [
    "plt.figure(figsize=(8,3))\n",
    "sns.boxplot(data=accesos_por_tecnologia, x='Total')\n",
    "plt.show()"
   ]
  },
  {
   "cell_type": "markdown",
   "metadata": {},
   "source": [
    "### (Explicar)"
   ]
  },
  {
   "cell_type": "code",
   "execution_count": 3357,
   "metadata": {},
   "outputs": [
    {
     "data": {
      "text/html": [
       "<div>\n",
       "<style scoped>\n",
       "    .dataframe tbody tr th:only-of-type {\n",
       "        vertical-align: middle;\n",
       "    }\n",
       "\n",
       "    .dataframe tbody tr th {\n",
       "        vertical-align: top;\n",
       "    }\n",
       "\n",
       "    .dataframe thead th {\n",
       "        text-align: right;\n",
       "    }\n",
       "</style>\n",
       "<table border=\"1\" class=\"dataframe\">\n",
       "  <thead>\n",
       "    <tr style=\"text-align: right;\">\n",
       "      <th></th>\n",
       "      <th>Año</th>\n",
       "      <th>Trimestre</th>\n",
       "      <th>Provincia</th>\n",
       "      <th>ADSL</th>\n",
       "      <th>Cablemodem</th>\n",
       "      <th>Fibra optica</th>\n",
       "      <th>Wireless</th>\n",
       "      <th>Otros</th>\n",
       "      <th>Total</th>\n",
       "    </tr>\n",
       "  </thead>\n",
       "  <tbody>\n",
       "    <tr>\n",
       "      <th>0</th>\n",
       "      <td>2024</td>\n",
       "      <td>2</td>\n",
       "      <td>Buenos Aires</td>\n",
       "      <td>214055.0</td>\n",
       "      <td>2722466.0</td>\n",
       "      <td>1849476.0</td>\n",
       "      <td>138638.0</td>\n",
       "      <td>64745.0</td>\n",
       "      <td>4989380.0</td>\n",
       "    </tr>\n",
       "    <tr>\n",
       "      <th>1</th>\n",
       "      <td>2024</td>\n",
       "      <td>2</td>\n",
       "      <td>Capital Federal</td>\n",
       "      <td>54102.0</td>\n",
       "      <td>1144781.0</td>\n",
       "      <td>230402.0</td>\n",
       "      <td>4493.0</td>\n",
       "      <td>29821.0</td>\n",
       "      <td>1463599.0</td>\n",
       "    </tr>\n",
       "    <tr>\n",
       "      <th>5</th>\n",
       "      <td>2024</td>\n",
       "      <td>2</td>\n",
       "      <td>Córdoba</td>\n",
       "      <td>93483.0</td>\n",
       "      <td>443091.0</td>\n",
       "      <td>477504.0</td>\n",
       "      <td>62162.0</td>\n",
       "      <td>9534.0</td>\n",
       "      <td>1085774.0</td>\n",
       "    </tr>\n",
       "    <tr>\n",
       "      <th>20</th>\n",
       "      <td>2024</td>\n",
       "      <td>2</td>\n",
       "      <td>Santa Fe</td>\n",
       "      <td>88486.0</td>\n",
       "      <td>394939.0</td>\n",
       "      <td>390090.0</td>\n",
       "      <td>44286.0</td>\n",
       "      <td>13172.0</td>\n",
       "      <td>930973.0</td>\n",
       "    </tr>\n",
       "    <tr>\n",
       "      <th>24</th>\n",
       "      <td>2024</td>\n",
       "      <td>1</td>\n",
       "      <td>Capital Federal</td>\n",
       "      <td>70108.0</td>\n",
       "      <td>1177475.0</td>\n",
       "      <td>203756.0</td>\n",
       "      <td>4493.0</td>\n",
       "      <td>48879.0</td>\n",
       "      <td>1504711.0</td>\n",
       "    </tr>\n",
       "    <tr>\n",
       "      <th>...</th>\n",
       "      <td>...</td>\n",
       "      <td>...</td>\n",
       "      <td>...</td>\n",
       "      <td>...</td>\n",
       "      <td>...</td>\n",
       "      <td>...</td>\n",
       "      <td>...</td>\n",
       "      <td>...</td>\n",
       "      <td>...</td>\n",
       "    </tr>\n",
       "    <tr>\n",
       "      <th>979</th>\n",
       "      <td>2014</td>\n",
       "      <td>2</td>\n",
       "      <td>Santa Fe</td>\n",
       "      <td>324101.0</td>\n",
       "      <td>178495.0</td>\n",
       "      <td>3085.0</td>\n",
       "      <td>6041.0</td>\n",
       "      <td>636.0</td>\n",
       "      <td>512358.0</td>\n",
       "    </tr>\n",
       "    <tr>\n",
       "      <th>983</th>\n",
       "      <td>2014</td>\n",
       "      <td>1</td>\n",
       "      <td>Buenos Aires</td>\n",
       "      <td>1567685.0</td>\n",
       "      <td>1000879.0</td>\n",
       "      <td>120960.0</td>\n",
       "      <td>16528.0</td>\n",
       "      <td>33824.0</td>\n",
       "      <td>2739876.0</td>\n",
       "    </tr>\n",
       "    <tr>\n",
       "      <th>984</th>\n",
       "      <td>2014</td>\n",
       "      <td>1</td>\n",
       "      <td>Capital Federal</td>\n",
       "      <td>445569.0</td>\n",
       "      <td>820161.0</td>\n",
       "      <td>17767.0</td>\n",
       "      <td>1866.0</td>\n",
       "      <td>14555.0</td>\n",
       "      <td>1299918.0</td>\n",
       "    </tr>\n",
       "    <tr>\n",
       "      <th>988</th>\n",
       "      <td>2014</td>\n",
       "      <td>1</td>\n",
       "      <td>Córdoba</td>\n",
       "      <td>336841.0</td>\n",
       "      <td>225769.0</td>\n",
       "      <td>347.0</td>\n",
       "      <td>3585.0</td>\n",
       "      <td>368.0</td>\n",
       "      <td>566910.0</td>\n",
       "    </tr>\n",
       "    <tr>\n",
       "      <th>1003</th>\n",
       "      <td>2014</td>\n",
       "      <td>1</td>\n",
       "      <td>Santa Fe</td>\n",
       "      <td>322662.0</td>\n",
       "      <td>174296.0</td>\n",
       "      <td>3059.0</td>\n",
       "      <td>5951.0</td>\n",
       "      <td>644.0</td>\n",
       "      <td>506612.0</td>\n",
       "    </tr>\n",
       "  </tbody>\n",
       "</table>\n",
       "<p>167 rows × 9 columns</p>\n",
       "</div>"
      ],
      "text/plain": [
       "       Año  Trimestre        Provincia       ADSL  Cablemodem  Fibra optica  \\\n",
       "0     2024          2     Buenos Aires   214055.0   2722466.0     1849476.0   \n",
       "1     2024          2  Capital Federal    54102.0   1144781.0      230402.0   \n",
       "5     2024          2          Córdoba    93483.0    443091.0      477504.0   \n",
       "20    2024          2         Santa Fe    88486.0    394939.0      390090.0   \n",
       "24    2024          1  Capital Federal    70108.0   1177475.0      203756.0   \n",
       "...    ...        ...              ...        ...         ...           ...   \n",
       "979   2014          2         Santa Fe   324101.0    178495.0        3085.0   \n",
       "983   2014          1     Buenos Aires  1567685.0   1000879.0      120960.0   \n",
       "984   2014          1  Capital Federal   445569.0    820161.0       17767.0   \n",
       "988   2014          1          Córdoba   336841.0    225769.0         347.0   \n",
       "1003  2014          1         Santa Fe   322662.0    174296.0        3059.0   \n",
       "\n",
       "      Wireless    Otros      Total  \n",
       "0     138638.0  64745.0  4989380.0  \n",
       "1       4493.0  29821.0  1463599.0  \n",
       "5      62162.0   9534.0  1085774.0  \n",
       "20     44286.0  13172.0   930973.0  \n",
       "24      4493.0  48879.0  1504711.0  \n",
       "...        ...      ...        ...  \n",
       "979     6041.0    636.0   512358.0  \n",
       "983    16528.0  33824.0  2739876.0  \n",
       "984     1866.0  14555.0  1299918.0  \n",
       "988     3585.0    368.0   566910.0  \n",
       "1003    5951.0    644.0   506612.0  \n",
       "\n",
       "[167 rows x 9 columns]"
      ]
     },
     "execution_count": 3357,
     "metadata": {},
     "output_type": "execute_result"
    }
   ],
   "source": [
    "# Se define outliers como todos los datos por debajo y por sobre (1.5 * Rangos intercuartiles)\n",
    "Q1 = accesos_por_tecnologia['Total'].quantile(0.25)\n",
    "Q3 = accesos_por_tecnologia['Total'].quantile(0.75)\n",
    "\n",
    "IQR = Q3 - Q1\n",
    "\n",
    "limite_inferior = Q1 - 1.5 * IQR\n",
    "limite_superior = Q3 + 1.5 * IQR\n",
    "\n",
    "outliers = accesos_por_tecnologia[(accesos_por_tecnologia['Total'] < limite_inferior) | (accesos_por_tecnologia['Total'] > limite_superior)]\n",
    "\n",
    "outliers"
   ]
  },
  {
   "cell_type": "markdown",
   "metadata": {},
   "source": [
    "### Conclusión Outliers Total"
   ]
  },
  {
   "cell_type": "markdown",
   "metadata": {},
   "source": [
    "* Considerando que los outliers de mayor magnitud se concentran en Buenos Aires, la cual es una zona demográficamente densa, no se considerarán como outliers."
   ]
  },
  {
   "cell_type": "code",
   "execution_count": 3358,
   "metadata": {},
   "outputs": [
    {
     "data": {
      "text/html": [
       "<div>\n",
       "<style scoped>\n",
       "    .dataframe tbody tr th:only-of-type {\n",
       "        vertical-align: middle;\n",
       "    }\n",
       "\n",
       "    .dataframe tbody tr th {\n",
       "        vertical-align: top;\n",
       "    }\n",
       "\n",
       "    .dataframe thead th {\n",
       "        text-align: right;\n",
       "    }\n",
       "</style>\n",
       "<table border=\"1\" class=\"dataframe\">\n",
       "  <thead>\n",
       "    <tr style=\"text-align: right;\">\n",
       "      <th></th>\n",
       "      <th>Año</th>\n",
       "      <th>Trimestre</th>\n",
       "      <th>Provincia</th>\n",
       "      <th>ADSL</th>\n",
       "      <th>Cablemodem</th>\n",
       "      <th>Fibra optica</th>\n",
       "      <th>Wireless</th>\n",
       "      <th>Otros</th>\n",
       "      <th>Total</th>\n",
       "    </tr>\n",
       "  </thead>\n",
       "  <tbody>\n",
       "    <tr>\n",
       "      <th>0</th>\n",
       "      <td>2024</td>\n",
       "      <td>2</td>\n",
       "      <td>Buenos Aires</td>\n",
       "      <td>214055.0</td>\n",
       "      <td>2722466.0</td>\n",
       "      <td>1849476.0</td>\n",
       "      <td>138638.0</td>\n",
       "      <td>64745.0</td>\n",
       "      <td>4989380.0</td>\n",
       "    </tr>\n",
       "    <tr>\n",
       "      <th>1</th>\n",
       "      <td>2024</td>\n",
       "      <td>2</td>\n",
       "      <td>Capital Federal</td>\n",
       "      <td>54102.0</td>\n",
       "      <td>1144781.0</td>\n",
       "      <td>230402.0</td>\n",
       "      <td>4493.0</td>\n",
       "      <td>29821.0</td>\n",
       "      <td>1463599.0</td>\n",
       "    </tr>\n",
       "    <tr>\n",
       "      <th>2</th>\n",
       "      <td>2024</td>\n",
       "      <td>2</td>\n",
       "      <td>Catamarca</td>\n",
       "      <td>4951.0</td>\n",
       "      <td>10303.0</td>\n",
       "      <td>58355.0</td>\n",
       "      <td>1384.0</td>\n",
       "      <td>81.0</td>\n",
       "      <td>75074.0</td>\n",
       "    </tr>\n",
       "    <tr>\n",
       "      <th>3</th>\n",
       "      <td>2024</td>\n",
       "      <td>2</td>\n",
       "      <td>Chaco</td>\n",
       "      <td>9448.0</td>\n",
       "      <td>57935.0</td>\n",
       "      <td>68944.0</td>\n",
       "      <td>8407.0</td>\n",
       "      <td>2358.0</td>\n",
       "      <td>147092.0</td>\n",
       "    </tr>\n",
       "    <tr>\n",
       "      <th>4</th>\n",
       "      <td>2024</td>\n",
       "      <td>2</td>\n",
       "      <td>Chubut</td>\n",
       "      <td>25955.0</td>\n",
       "      <td>80704.0</td>\n",
       "      <td>26516.0</td>\n",
       "      <td>31118.0</td>\n",
       "      <td>9930.0</td>\n",
       "      <td>174223.0</td>\n",
       "    </tr>\n",
       "  </tbody>\n",
       "</table>\n",
       "</div>"
      ],
      "text/plain": [
       "    Año  Trimestre        Provincia      ADSL  Cablemodem  Fibra optica  \\\n",
       "0  2024          2     Buenos Aires  214055.0   2722466.0     1849476.0   \n",
       "1  2024          2  Capital Federal   54102.0   1144781.0      230402.0   \n",
       "2  2024          2        Catamarca    4951.0     10303.0       58355.0   \n",
       "3  2024          2            Chaco    9448.0     57935.0       68944.0   \n",
       "4  2024          2           Chubut   25955.0     80704.0       26516.0   \n",
       "\n",
       "   Wireless    Otros      Total  \n",
       "0  138638.0  64745.0  4989380.0  \n",
       "1    4493.0  29821.0  1463599.0  \n",
       "2    1384.0     81.0    75074.0  \n",
       "3    8407.0   2358.0   147092.0  \n",
       "4   31118.0   9930.0   174223.0  "
      ]
     },
     "execution_count": 3358,
     "metadata": {},
     "output_type": "execute_result"
    }
   ],
   "source": [
    "accesos_por_tecnologia.head()"
   ]
  },
  {
   "cell_type": "markdown",
   "metadata": {},
   "source": [
    "### Creación dataset con metas a conseguir de accesos por trimestre"
   ]
  },
  {
   "cell_type": "code",
   "execution_count": 3359,
   "metadata": {},
   "outputs": [
    {
     "name": "stdout",
     "output_type": "stream",
     "text": [
      "     Año  Trimestre     Provincia     ADSL  Cablemodem  Fibra optica  \\\n",
      "0   2014          1  Buenos Aires  1567685     1000879        120960   \n",
      "24  2014          2  Buenos Aires  1568881     1025490        120008   \n",
      "48  2014          3  Buenos Aires  1562533     1110628        124474   \n",
      "72  2014          4  Buenos Aires  1575978     1070135        120528   \n",
      "96  2015          1  Buenos Aires  1583135     1096836        134177   \n",
      "\n",
      "    Wireless  Otros    Total  ADSL meta  Cablemodem meta  Fibra optica meta  \\\n",
      "0      16528  33824  2739876          0                0                  0   \n",
      "24     17020  33147  2764546    1599038          1020896             123379   \n",
      "48     20049  31881  2849565    1600258          1045999             122408   \n",
      "72     17728  32038  2816407    1593783          1132840             126963   \n",
      "96     18754  28940  2861842    1607497          1091537             122938   \n",
      "\n",
      "    Wireless meta  Otros meta  Total meta Tecnologia Predominante  \n",
      "0               0           0           0                    ADSL  \n",
      "24          16858       34500     2794673                    ADSL  \n",
      "48          17360       33809     2819836                    ADSL  \n",
      "72          20449       32518     2906556                    ADSL  \n",
      "96          18082       32678     2872735                    ADSL  \n"
     ]
    }
   ],
   "source": [
    "# Agrupar por Año, Trimestre y Provincia\n",
    "accesos_anuales_tecnologia = accesos_por_tecnologia.groupby(['Año', 'Trimestre', 'Provincia'], as_index=False).sum()\n",
    "\n",
    "# Crear columnas para los accesos del trimestre anterior y las metas por cada tecnología\n",
    "tecnologias = ['ADSL', 'Cablemodem', 'Fibra optica', 'Wireless', 'Otros']\n",
    "\n",
    "# Asegurarse de que los datos estén ordenados por Provincia, Año y Trimestre\n",
    "accesos_anuales_tecnologia = accesos_anuales_tecnologia.sort_values(by=['Provincia', 'Año', 'Trimestre'])\n",
    "\n",
    "for tech in tecnologias:\n",
    "    # Calcular accesos del trimestre anterior para cada tecnología\n",
    "    accesos_anuales_tecnologia[f'{tech} trimestre anterior'] = accesos_anuales_tecnologia.groupby('Provincia')[tech].shift(1)\n",
    "\n",
    "    # Calcular la meta (2% más que el trimestre anterior)\n",
    "    accesos_anuales_tecnologia[f'{tech} meta'] = accesos_anuales_tecnologia[f'{tech} trimestre anterior'] * 1.02\n",
    "\n",
    "# Crear una columna para los accesos del trimestre anterior (total)\n",
    "accesos_anuales_tecnologia['Total trimestre anterior'] = accesos_anuales_tecnologia.groupby('Provincia')['Total'].shift(1)\n",
    "\n",
    "# Calcular la meta como un 2% más de los accesos del trimestre pasado (total)\n",
    "accesos_anuales_tecnologia['Total meta'] = accesos_anuales_tecnologia['Total trimestre anterior'] * 1.02\n",
    "\n",
    "# Eliminar las columnas del trimestre anterior si no serán usadas\n",
    "accesos_anuales_tecnologia = accesos_anuales_tecnologia.drop(columns=[f'{tech} trimestre anterior' for tech in tecnologias] + ['Total trimestre anterior'])\n",
    "\n",
    "# Reemplazar los valores NaN por 0 en todas las columnas numéricas\n",
    "accesos_anuales_tecnologia = accesos_anuales_tecnologia.fillna(0)\n",
    "\n",
    "# Convertir todas las columnas numéricas a enteros\n",
    "accesos_anuales_tecnologia = accesos_anuales_tecnologia.astype({col: 'int' for col in accesos_anuales_tecnologia.select_dtypes(include='float').columns})\n",
    "\n",
    "# Calcular la tecnología con mayor proporción\n",
    "for tech in tecnologias:\n",
    "    accesos_anuales_tecnologia[f\"{tech}_proporcion\"] = accesos_anuales_tecnologia[tech] / accesos_anuales_tecnologia[\"Total\"]\n",
    "\n",
    "# Identificar la tecnología con mayor proporción\n",
    "accesos_anuales_tecnologia[\"Tecnologia Predominante\"] = accesos_anuales_tecnologia[tecnologias].idxmax(axis=1)\n",
    "\n",
    "# Eliminar las columnas de proporción que no serán usadas\n",
    "accesos_anuales_tecnologia = accesos_anuales_tecnologia.drop(columns=[f'{tech}_proporcion' for tech in tecnologias])\n",
    "\n",
    "# Mostrar el resultado\n",
    "print(accesos_anuales_tecnologia.head())"
   ]
  },
  {
   "cell_type": "code",
   "execution_count": 3360,
   "metadata": {},
   "outputs": [],
   "source": [
    "accesos_anuales_tecnologia.to_csv(r'C:\\Users\\felip\\Desktop\\Stuff\\Cursos\\SoyHenry\\Clases\\LABS\\PI Data Analytics\\pida_fviera\\Datasets\\accesos_anuales_tecnologia.csv', index=False)"
   ]
  },
  {
   "cell_type": "markdown",
   "metadata": {},
   "source": [
    "## penetracion_poblacion"
   ]
  },
  {
   "cell_type": "code",
   "execution_count": 3361,
   "metadata": {},
   "outputs": [
    {
     "data": {
      "text/html": [
       "<div>\n",
       "<style scoped>\n",
       "    .dataframe tbody tr th:only-of-type {\n",
       "        vertical-align: middle;\n",
       "    }\n",
       "\n",
       "    .dataframe tbody tr th {\n",
       "        vertical-align: top;\n",
       "    }\n",
       "\n",
       "    .dataframe thead th {\n",
       "        text-align: right;\n",
       "    }\n",
       "</style>\n",
       "<table border=\"1\" class=\"dataframe\">\n",
       "  <thead>\n",
       "    <tr style=\"text-align: right;\">\n",
       "      <th></th>\n",
       "      <th>Año</th>\n",
       "      <th>Trimestre</th>\n",
       "      <th>Provincia</th>\n",
       "      <th>Accesos por cada 100 hab</th>\n",
       "    </tr>\n",
       "  </thead>\n",
       "  <tbody>\n",
       "    <tr>\n",
       "      <th>0</th>\n",
       "      <td>2024</td>\n",
       "      <td>2</td>\n",
       "      <td>Buenos Aires</td>\n",
       "      <td>27.43</td>\n",
       "    </tr>\n",
       "    <tr>\n",
       "      <th>1</th>\n",
       "      <td>2024</td>\n",
       "      <td>2</td>\n",
       "      <td>Capital Federal</td>\n",
       "      <td>47.44</td>\n",
       "    </tr>\n",
       "    <tr>\n",
       "      <th>2</th>\n",
       "      <td>2024</td>\n",
       "      <td>2</td>\n",
       "      <td>Catamarca</td>\n",
       "      <td>17.50</td>\n",
       "    </tr>\n",
       "    <tr>\n",
       "      <th>3</th>\n",
       "      <td>2024</td>\n",
       "      <td>2</td>\n",
       "      <td>Chaco</td>\n",
       "      <td>11.78</td>\n",
       "    </tr>\n",
       "    <tr>\n",
       "      <th>4</th>\n",
       "      <td>2024</td>\n",
       "      <td>2</td>\n",
       "      <td>Chubut</td>\n",
       "      <td>26.46</td>\n",
       "    </tr>\n",
       "  </tbody>\n",
       "</table>\n",
       "</div>"
      ],
      "text/plain": [
       "    Año  Trimestre        Provincia  Accesos por cada 100 hab\n",
       "0  2024          2     Buenos Aires                     27.43\n",
       "1  2024          2  Capital Federal                     47.44\n",
       "2  2024          2        Catamarca                     17.50\n",
       "3  2024          2            Chaco                     11.78\n",
       "4  2024          2           Chubut                     26.46"
      ]
     },
     "execution_count": 3361,
     "metadata": {},
     "output_type": "execute_result"
    }
   ],
   "source": [
    "penetracion_poblacion.head()"
   ]
  },
  {
   "cell_type": "code",
   "execution_count": 3362,
   "metadata": {},
   "outputs": [
    {
     "data": {
      "text/plain": [
       "Index(['Buenos Aires', 'Jujuy', 'Río Negro', 'Neuquén', 'Misiones',\n",
       "       'Capital Federal', 'La Rioja', 'La Pampa', 'Mendoza', 'Formosa',\n",
       "       'Entre Ríos', 'Corrientes', 'Córdoba', 'Chubut', 'Chaco', 'Catamarca',\n",
       "       'Salta', 'San Juan', 'San Luis', 'Santa Cruz', 'Santa Fe',\n",
       "       'Santiago Del Estero', 'Tierra Del Fuego', 'Tucumán'],\n",
       "      dtype='object', name='Provincia')"
      ]
     },
     "execution_count": 3362,
     "metadata": {},
     "output_type": "execute_result"
    }
   ],
   "source": [
    "penetracion_poblacion['Provincia'].value_counts().index"
   ]
  },
  {
   "cell_type": "code",
   "execution_count": 3363,
   "metadata": {},
   "outputs": [
    {
     "data": {
      "text/plain": [
       "Año                         0\n",
       "Trimestre                   0\n",
       "Provincia                   0\n",
       "Accesos por cada 100 hab    0\n",
       "dtype: int64"
      ]
     },
     "execution_count": 3363,
     "metadata": {},
     "output_type": "execute_result"
    }
   ],
   "source": [
    "penetracion_poblacion.isna().sum()"
   ]
  },
  {
   "cell_type": "markdown",
   "metadata": {},
   "source": [
    "### Distribución y outliers 'Accesos por cada 100 hogares'"
   ]
  },
  {
   "cell_type": "code",
   "execution_count": 3364,
   "metadata": {},
   "outputs": [
    {
     "data": {
      "image/png": "[encoded data removed]",
      "text/plain": [
       "<Figure size 600x500 with 1 Axes>"
      ]
     },
     "metadata": {},
     "output_type": "display_data"
    }
   ],
   "source": [
    "plt.figure(figsize=(6,5))\n",
    "sns.histplot(penetracion_poblacion['Accesos por cada 100 hab'], kde=True)\n",
    "plt.title('Distribución de Accesos por cada 100 habitantes')\n",
    "plt.show()"
   ]
  },
  {
   "cell_type": "markdown",
   "metadata": {},
   "source": [
    "### (EXPLICAR)"
   ]
  },
  {
   "cell_type": "code",
   "execution_count": 3365,
   "metadata": {},
   "outputs": [
    {
     "data": {
      "image/png": "[encoded data removed]",
      "text/plain": [
       "<Figure size 800x300 with 1 Axes>"
      ]
     },
     "metadata": {},
     "output_type": "display_data"
    }
   ],
   "source": [
    "plt.figure(figsize=(8,3))\n",
    "sns.boxplot(data=penetracion_poblacion, x='Accesos por cada 100 hab')\n",
    "plt.show()"
   ]
  },
  {
   "cell_type": "markdown",
   "metadata": {},
   "source": [
    "### (EXPLICAR)"
   ]
  },
  {
   "cell_type": "code",
   "execution_count": 3366,
   "metadata": {},
   "outputs": [
    {
     "name": "stdout",
     "output_type": "stream",
     "text": [
      "     Año  Trimestre        Provincia  Accesos por cada 100 hab\n",
      "1   2024          2  Capital Federal                     47.44\n",
      "25  2024          1  Capital Federal                     48.78\n",
      "49  2023          4  Capital Federal                     47.80\n",
      "73  2023          3  Capital Federal                     47.60\n",
      "97  2023          2  Capital Federal                     47.27\n",
      "(42, 4)\n"
     ]
    }
   ],
   "source": [
    "# Se define outliers como todos los datos por debajo y por sobre (1.5 * Rangos intercuartiles)\n",
    "Q1 = penetracion_poblacion['Accesos por cada 100 hab'].quantile(0.25)\n",
    "Q3 = penetracion_poblacion['Accesos por cada 100 hab'].quantile(0.75)\n",
    "\n",
    "IQR = Q3 - Q1\n",
    "\n",
    "limite_inferior = Q1 - 1.5 * IQR\n",
    "limite_superior = Q3 + 1.5 * IQR\n",
    "\n",
    "outliers = penetracion_poblacion[(penetracion_poblacion['Accesos por cada 100 hab'] < limite_inferior) | (penetracion_poblacion['Accesos por cada 100 hab'] > limite_superior)]\n",
    "\n",
    "print(outliers.head())\n",
    "print(outliers.shape)"
   ]
  },
  {
   "cell_type": "markdown",
   "metadata": {},
   "source": [
    "### Conclusión Outliers penetracion_poblacion:"
   ]
  },
  {
   "cell_type": "markdown",
   "metadata": {},
   "source": [
    "* Considerando que los outliers se concentran en Capital Federal la cual es una zona demográficamente densa no se considerarán como outliers los datos obtenidos anterirormente."
   ]
  },
  {
   "cell_type": "markdown",
   "metadata": {},
   "source": [
    "### Creación dataset penetración_población_anual"
   ]
  },
  {
   "cell_type": "code",
   "execution_count": 3367,
   "metadata": {},
   "outputs": [
    {
     "data": {
      "text/html": [
       "<div>\n",
       "<style scoped>\n",
       "    .dataframe tbody tr th:only-of-type {\n",
       "        vertical-align: middle;\n",
       "    }\n",
       "\n",
       "    .dataframe tbody tr th {\n",
       "        vertical-align: top;\n",
       "    }\n",
       "\n",
       "    .dataframe thead th {\n",
       "        text-align: right;\n",
       "    }\n",
       "</style>\n",
       "<table border=\"1\" class=\"dataframe\">\n",
       "  <thead>\n",
       "    <tr style=\"text-align: right;\">\n",
       "      <th></th>\n",
       "      <th>Año</th>\n",
       "      <th>Trimestre</th>\n",
       "      <th>Provincia</th>\n",
       "      <th>Accesos/100 hab</th>\n",
       "      <th>Latitud</th>\n",
       "      <th>Longitud</th>\n",
       "      <th>Accesos poblacion trimestre anterior</th>\n",
       "      <th>Accesos poblacion meta</th>\n",
       "    </tr>\n",
       "  </thead>\n",
       "  <tbody>\n",
       "    <tr>\n",
       "      <th>0</th>\n",
       "      <td>2014</td>\n",
       "      <td>1</td>\n",
       "      <td>Buenos Aires</td>\n",
       "      <td>16,69</td>\n",
       "      <td>-36,6769</td>\n",
       "      <td>-60,5588</td>\n",
       "      <td>0,00</td>\n",
       "      <td>0,00</td>\n",
       "    </tr>\n",
       "    <tr>\n",
       "      <th>16</th>\n",
       "      <td>2014</td>\n",
       "      <td>2</td>\n",
       "      <td>Buenos Aires</td>\n",
       "      <td>16,79</td>\n",
       "      <td>-36,6769</td>\n",
       "      <td>-60,5588</td>\n",
       "      <td>16,69</td>\n",
       "      <td>17,03</td>\n",
       "    </tr>\n",
       "    <tr>\n",
       "      <th>40</th>\n",
       "      <td>2014</td>\n",
       "      <td>3</td>\n",
       "      <td>Buenos Aires</td>\n",
       "      <td>17,26</td>\n",
       "      <td>-36,6769</td>\n",
       "      <td>-60,5588</td>\n",
       "      <td>16,79</td>\n",
       "      <td>17,13</td>\n",
       "    </tr>\n",
       "    <tr>\n",
       "      <th>64</th>\n",
       "      <td>2014</td>\n",
       "      <td>4</td>\n",
       "      <td>Buenos Aires</td>\n",
       "      <td>17,01</td>\n",
       "      <td>-36,6769</td>\n",
       "      <td>-60,5588</td>\n",
       "      <td>17,26</td>\n",
       "      <td>17,61</td>\n",
       "    </tr>\n",
       "    <tr>\n",
       "      <th>88</th>\n",
       "      <td>2015</td>\n",
       "      <td>1</td>\n",
       "      <td>Buenos Aires</td>\n",
       "      <td>17,24</td>\n",
       "      <td>-36,6769</td>\n",
       "      <td>-60,5588</td>\n",
       "      <td>17,01</td>\n",
       "      <td>17,36</td>\n",
       "    </tr>\n",
       "  </tbody>\n",
       "</table>\n",
       "</div>"
      ],
      "text/plain": [
       "     Año  Trimestre     Provincia Accesos/100 hab   Latitud  Longitud  \\\n",
       "0   2014          1  Buenos Aires           16,69  -36,6769  -60,5588   \n",
       "16  2014          2  Buenos Aires           16,79  -36,6769  -60,5588   \n",
       "40  2014          3  Buenos Aires           17,26  -36,6769  -60,5588   \n",
       "64  2014          4  Buenos Aires           17,01  -36,6769  -60,5588   \n",
       "88  2015          1  Buenos Aires           17,24  -36,6769  -60,5588   \n",
       "\n",
       "   Accesos poblacion trimestre anterior Accesos poblacion meta  \n",
       "0                                  0,00                   0,00  \n",
       "16                                16,69                  17,03  \n",
       "40                                16,79                  17,13  \n",
       "64                                17,26                  17,61  \n",
       "88                                17,01                  17,36  "
      ]
     },
     "execution_count": 3367,
     "metadata": {},
     "output_type": "execute_result"
    }
   ],
   "source": [
    "# Agrupar por Año, Trimestre y Provincia y sumar los valores\n",
    "penetracion_hogares_anual = penetracion_poblacion.groupby(['Año', 'Trimestre', 'Provincia'], as_index=False).sum()\n",
    "\n",
    "# Se hace Join con el dataset de latitudes y longitudes para preparar los datos para los mapas en Power BI\n",
    "penetracion_hogares_anual = penetracion_hogares_anual.merge(lat_long_prov, on='Provincia', how='left')\n",
    "\n",
    "# Cambiar el nombre de la columna 'Accesos por cada 100 hab'\n",
    "penetracion_hogares_anual = penetracion_hogares_anual.rename(columns={'Accesos por cada 100 hab': 'Accesos/100 hab'})\n",
    "\n",
    "# Cambiar el tipo de las columnas\n",
    "penetracion_hogares_anual = penetracion_hogares_anual.astype({'Accesos/100 hab': 'float64'})\n",
    "\n",
    "# Asegurarse de que los datos estén ordenados por Provincia, Año y Trimestre\n",
    "penetracion_hogares_anual = penetracion_hogares_anual.sort_values(by=['Provincia', 'Año', 'Trimestre'])\n",
    "\n",
    "# Crear una columna para los accesos del trimestre anterior\n",
    "penetracion_hogares_anual['Accesos poblacion trimestre anterior'] = penetracion_hogares_anual.groupby('Provincia')['Accesos/100 hab'].shift(1)\n",
    "\n",
    "# Calcular la meta como un 2% más de los accesos del trimestre anterior\n",
    "penetracion_hogares_anual['Accesos poblacion meta'] = penetracion_hogares_anual['Accesos poblacion trimestre anterior'] * 1.02\n",
    "\n",
    "# Reemplaza los valores NaN por 0 en todas las columnas numéricas\n",
    "penetracion_hogares_anual = penetracion_hogares_anual.fillna(0)\n",
    "\n",
    "# Se cambia punto decimal por coma para no tener problemas de lectura con PowerBI\n",
    "penetracion_hogares_anual['Accesos/100 hab'] = penetracion_hogares_anual['Accesos/100 hab'].apply(lambda x: f\"{x:.2f}\".replace('.', ','))\n",
    "penetracion_hogares_anual['Accesos poblacion trimestre anterior'] = penetracion_hogares_anual['Accesos poblacion trimestre anterior'].apply(lambda x: f\"{x:.2f}\".replace('.', ','))\n",
    "penetracion_hogares_anual['Accesos poblacion meta'] = penetracion_hogares_anual['Accesos poblacion meta'].apply(lambda x: f\"{x:.2f}\".replace('.', ','))\n",
    "\n",
    "\n",
    "penetracion_hogares_anual.head()"
   ]
  },
  {
   "cell_type": "code",
   "execution_count": 3368,
   "metadata": {},
   "outputs": [],
   "source": [
    "penetracion_hogares_anual.to_csv(r'C:\\Users\\felip\\Desktop\\Stuff\\Cursos\\SoyHenry\\Clases\\LABS\\PI Data Analytics\\pida_fviera\\Datasets\\penetracion_poblacion_anual.csv', index=False)"
   ]
  },
  {
   "cell_type": "markdown",
   "metadata": {},
   "source": [
    "## penetracion_hogares"
   ]
  },
  {
   "cell_type": "code",
   "execution_count": 3369,
   "metadata": {},
   "outputs": [
    {
     "data": {
      "text/html": [
       "<div>\n",
       "<style scoped>\n",
       "    .dataframe tbody tr th:only-of-type {\n",
       "        vertical-align: middle;\n",
       "    }\n",
       "\n",
       "    .dataframe tbody tr th {\n",
       "        vertical-align: top;\n",
       "    }\n",
       "\n",
       "    .dataframe thead th {\n",
       "        text-align: right;\n",
       "    }\n",
       "</style>\n",
       "<table border=\"1\" class=\"dataframe\">\n",
       "  <thead>\n",
       "    <tr style=\"text-align: right;\">\n",
       "      <th></th>\n",
       "      <th>Año</th>\n",
       "      <th>Trimestre</th>\n",
       "      <th>Provincia</th>\n",
       "      <th>Accesos por cada 100 hogares</th>\n",
       "    </tr>\n",
       "  </thead>\n",
       "  <tbody>\n",
       "    <tr>\n",
       "      <th>0</th>\n",
       "      <td>2024</td>\n",
       "      <td>2</td>\n",
       "      <td>Buenos Aires</td>\n",
       "      <td>79.84</td>\n",
       "    </tr>\n",
       "    <tr>\n",
       "      <th>1</th>\n",
       "      <td>2024</td>\n",
       "      <td>2</td>\n",
       "      <td>Capital Federal</td>\n",
       "      <td>116.37</td>\n",
       "    </tr>\n",
       "    <tr>\n",
       "      <th>2</th>\n",
       "      <td>2024</td>\n",
       "      <td>2</td>\n",
       "      <td>Catamarca</td>\n",
       "      <td>68.81</td>\n",
       "    </tr>\n",
       "    <tr>\n",
       "      <th>3</th>\n",
       "      <td>2024</td>\n",
       "      <td>2</td>\n",
       "      <td>Chaco</td>\n",
       "      <td>44.06</td>\n",
       "    </tr>\n",
       "    <tr>\n",
       "      <th>4</th>\n",
       "      <td>2024</td>\n",
       "      <td>2</td>\n",
       "      <td>Chubut</td>\n",
       "      <td>86.33</td>\n",
       "    </tr>\n",
       "  </tbody>\n",
       "</table>\n",
       "</div>"
      ],
      "text/plain": [
       "    Año  Trimestre        Provincia  Accesos por cada 100 hogares\n",
       "0  2024          2     Buenos Aires                         79.84\n",
       "1  2024          2  Capital Federal                        116.37\n",
       "2  2024          2        Catamarca                         68.81\n",
       "3  2024          2            Chaco                         44.06\n",
       "4  2024          2           Chubut                         86.33"
      ]
     },
     "execution_count": 3369,
     "metadata": {},
     "output_type": "execute_result"
    }
   ],
   "source": [
    "penetracion_hogares.head()"
   ]
  },
  {
   "cell_type": "code",
   "execution_count": 3370,
   "metadata": {},
   "outputs": [
    {
     "data": {
      "text/plain": [
       "Index(['Buenos Aires', 'Jujuy', 'Río Negro', 'Neuquén', 'Misiones',\n",
       "       'Capital Federal', 'La Rioja', 'La Pampa', 'Mendoza', 'Formosa',\n",
       "       'Entre Ríos', 'Corrientes', 'Córdoba', 'Chubut', 'Chaco', 'Catamarca',\n",
       "       'Salta', 'San Juan', 'San Luis', 'Santa Cruz', 'Santa Fe',\n",
       "       'Santiago Del Estero', 'Tierra Del Fuego', 'Tucumán'],\n",
       "      dtype='object', name='Provincia')"
      ]
     },
     "execution_count": 3370,
     "metadata": {},
     "output_type": "execute_result"
    }
   ],
   "source": [
    "penetracion_hogares['Provincia'].value_counts().index"
   ]
  },
  {
   "cell_type": "code",
   "execution_count": 3371,
   "metadata": {},
   "outputs": [
    {
     "data": {
      "text/plain": [
       "Año                             0\n",
       "Trimestre                       0\n",
       "Provincia                       0\n",
       "Accesos por cada 100 hogares    0\n",
       "dtype: int64"
      ]
     },
     "execution_count": 3371,
     "metadata": {},
     "output_type": "execute_result"
    }
   ],
   "source": [
    "penetracion_hogares.isna().sum()"
   ]
  },
  {
   "cell_type": "markdown",
   "metadata": {},
   "source": [
    "### Distribución y outliers 'Accesos por cada 100 hogares'"
   ]
  },
  {
   "cell_type": "code",
   "execution_count": 3372,
   "metadata": {},
   "outputs": [
    {
     "data": {
      "image/png": "[encoded data removed]",
      "text/plain": [
       "<Figure size 600x500 with 1 Axes>"
      ]
     },
     "metadata": {},
     "output_type": "display_data"
    }
   ],
   "source": [
    "plt.figure(figsize=(6,5))\n",
    "sns.histplot(penetracion_hogares['Accesos por cada 100 hogares'], kde=True)\n",
    "plt.title('Distribución de Accesos por cada 100 hogares')\n",
    "plt.show()"
   ]
  },
  {
   "cell_type": "markdown",
   "metadata": {},
   "source": [
    "### (EXPLICAR)"
   ]
  },
  {
   "cell_type": "code",
   "execution_count": 3373,
   "metadata": {},
   "outputs": [
    {
     "data": {
      "image/png": "[encoded data removed]",
      "text/plain": [
       "<Figure size 800x300 with 1 Axes>"
      ]
     },
     "metadata": {},
     "output_type": "display_data"
    }
   ],
   "source": [
    "plt.figure(figsize=(8,3))\n",
    "sns.boxplot(data=penetracion_hogares, x='Accesos por cada 100 hogares')\n",
    "plt.show()"
   ]
  },
  {
   "cell_type": "markdown",
   "metadata": {},
   "source": [
    "### (EXPLICAR)"
   ]
  },
  {
   "cell_type": "code",
   "execution_count": 3374,
   "metadata": {},
   "outputs": [
    {
     "data": {
      "text/html": [
       "<div>\n",
       "<style scoped>\n",
       "    .dataframe tbody tr th:only-of-type {\n",
       "        vertical-align: middle;\n",
       "    }\n",
       "\n",
       "    .dataframe tbody tr th {\n",
       "        vertical-align: top;\n",
       "    }\n",
       "\n",
       "    .dataframe thead th {\n",
       "        text-align: right;\n",
       "    }\n",
       "</style>\n",
       "<table border=\"1\" class=\"dataframe\">\n",
       "  <thead>\n",
       "    <tr style=\"text-align: right;\">\n",
       "      <th></th>\n",
       "      <th>Año</th>\n",
       "      <th>Trimestre</th>\n",
       "      <th>Provincia</th>\n",
       "      <th>Accesos por cada 100 hogares</th>\n",
       "    </tr>\n",
       "  </thead>\n",
       "  <tbody>\n",
       "    <tr>\n",
       "      <th>25</th>\n",
       "      <td>2024</td>\n",
       "      <td>1</td>\n",
       "      <td>Capital Federal</td>\n",
       "      <td>119.530000</td>\n",
       "    </tr>\n",
       "    <tr>\n",
       "      <th>49</th>\n",
       "      <td>2023</td>\n",
       "      <td>4</td>\n",
       "      <td>Capital Federal</td>\n",
       "      <td>117.020000</td>\n",
       "    </tr>\n",
       "    <tr>\n",
       "      <th>121</th>\n",
       "      <td>2023</td>\n",
       "      <td>1</td>\n",
       "      <td>Capital Federal</td>\n",
       "      <td>122.590000</td>\n",
       "    </tr>\n",
       "    <tr>\n",
       "      <th>145</th>\n",
       "      <td>2022</td>\n",
       "      <td>4</td>\n",
       "      <td>Capital Federal</td>\n",
       "      <td>122.730000</td>\n",
       "    </tr>\n",
       "    <tr>\n",
       "      <th>169</th>\n",
       "      <td>2022</td>\n",
       "      <td>3</td>\n",
       "      <td>Capital Federal</td>\n",
       "      <td>122.280000</td>\n",
       "    </tr>\n",
       "    <tr>\n",
       "      <th>193</th>\n",
       "      <td>2022</td>\n",
       "      <td>2</td>\n",
       "      <td>Capital Federal</td>\n",
       "      <td>121.310000</td>\n",
       "    </tr>\n",
       "    <tr>\n",
       "      <th>625</th>\n",
       "      <td>2017</td>\n",
       "      <td>4</td>\n",
       "      <td>Capital Federal</td>\n",
       "      <td>122.897424</td>\n",
       "    </tr>\n",
       "    <tr>\n",
       "      <th>649</th>\n",
       "      <td>2017</td>\n",
       "      <td>3</td>\n",
       "      <td>Capital Federal</td>\n",
       "      <td>121.858326</td>\n",
       "    </tr>\n",
       "    <tr>\n",
       "      <th>673</th>\n",
       "      <td>2017</td>\n",
       "      <td>2</td>\n",
       "      <td>Capital Federal</td>\n",
       "      <td>124.061394</td>\n",
       "    </tr>\n",
       "    <tr>\n",
       "      <th>721</th>\n",
       "      <td>2016</td>\n",
       "      <td>4</td>\n",
       "      <td>Capital Federal</td>\n",
       "      <td>120.631332</td>\n",
       "    </tr>\n",
       "    <tr>\n",
       "      <th>745</th>\n",
       "      <td>2016</td>\n",
       "      <td>3</td>\n",
       "      <td>Capital Federal</td>\n",
       "      <td>120.772878</td>\n",
       "    </tr>\n",
       "    <tr>\n",
       "      <th>769</th>\n",
       "      <td>2016</td>\n",
       "      <td>2</td>\n",
       "      <td>Capital Federal</td>\n",
       "      <td>120.039535</td>\n",
       "    </tr>\n",
       "    <tr>\n",
       "      <th>817</th>\n",
       "      <td>2015</td>\n",
       "      <td>4</td>\n",
       "      <td>Capital Federal</td>\n",
       "      <td>118.130363</td>\n",
       "    </tr>\n",
       "    <tr>\n",
       "      <th>841</th>\n",
       "      <td>2015</td>\n",
       "      <td>3</td>\n",
       "      <td>Capital Federal</td>\n",
       "      <td>118.289211</td>\n",
       "    </tr>\n",
       "  </tbody>\n",
       "</table>\n",
       "</div>"
      ],
      "text/plain": [
       "      Año  Trimestre        Provincia  Accesos por cada 100 hogares\n",
       "25   2024          1  Capital Federal                    119.530000\n",
       "49   2023          4  Capital Federal                    117.020000\n",
       "121  2023          1  Capital Federal                    122.590000\n",
       "145  2022          4  Capital Federal                    122.730000\n",
       "169  2022          3  Capital Federal                    122.280000\n",
       "193  2022          2  Capital Federal                    121.310000\n",
       "625  2017          4  Capital Federal                    122.897424\n",
       "649  2017          3  Capital Federal                    121.858326\n",
       "673  2017          2  Capital Federal                    124.061394\n",
       "721  2016          4  Capital Federal                    120.631332\n",
       "745  2016          3  Capital Federal                    120.772878\n",
       "769  2016          2  Capital Federal                    120.039535\n",
       "817  2015          4  Capital Federal                    118.130363\n",
       "841  2015          3  Capital Federal                    118.289211"
      ]
     },
     "execution_count": 3374,
     "metadata": {},
     "output_type": "execute_result"
    }
   ],
   "source": [
    "# Se define outliers como todos los datos por debajo y por sobre (1.5 * Rangos intercuartiles)\n",
    "Q1 = penetracion_hogares['Accesos por cada 100 hogares'].quantile(0.25)\n",
    "Q3 = penetracion_hogares['Accesos por cada 100 hogares'].quantile(0.75)\n",
    "\n",
    "IQR = Q3 - Q1\n",
    "\n",
    "limite_inferior = Q1 - 1.5 * IQR\n",
    "limite_superior = Q3 + 1.5 * IQR\n",
    "\n",
    "outliers = penetracion_hogares[(penetracion_hogares['Accesos por cada 100 hogares'] < limite_inferior) | (penetracion_hogares['Accesos por cada 100 hogares'] > limite_superior)]\n",
    "\n",
    "outliers"
   ]
  },
  {
   "cell_type": "markdown",
   "metadata": {},
   "source": [
    "### Conclusión Outliers penetracion_hogares:"
   ]
  },
  {
   "cell_type": "markdown",
   "metadata": {},
   "source": [
    "* Considerando que los outliers se concentran en Capital Federal, la cual es una zona demográficamente densa, no se consideraran como outliers los datos obtenidos anteriormente."
   ]
  },
  {
   "cell_type": "code",
   "execution_count": 3375,
   "metadata": {},
   "outputs": [
    {
     "data": {
      "text/html": [
       "<div>\n",
       "<style scoped>\n",
       "    .dataframe tbody tr th:only-of-type {\n",
       "        vertical-align: middle;\n",
       "    }\n",
       "\n",
       "    .dataframe tbody tr th {\n",
       "        vertical-align: top;\n",
       "    }\n",
       "\n",
       "    .dataframe thead th {\n",
       "        text-align: right;\n",
       "    }\n",
       "</style>\n",
       "<table border=\"1\" class=\"dataframe\">\n",
       "  <thead>\n",
       "    <tr style=\"text-align: right;\">\n",
       "      <th></th>\n",
       "      <th>Año</th>\n",
       "      <th>Trimestre</th>\n",
       "      <th>Provincia</th>\n",
       "      <th>Accesos/100 hogares</th>\n",
       "      <th>Latitud</th>\n",
       "      <th>Longitud</th>\n",
       "      <th>Accesos hogares trimestre anterior</th>\n",
       "      <th>Accesos hogares meta</th>\n",
       "    </tr>\n",
       "  </thead>\n",
       "  <tbody>\n",
       "    <tr>\n",
       "      <th>0</th>\n",
       "      <td>2014</td>\n",
       "      <td>1</td>\n",
       "      <td>Buenos Aires</td>\n",
       "      <td>54,57</td>\n",
       "      <td>-36,6769</td>\n",
       "      <td>-60,5588</td>\n",
       "      <td>0,00</td>\n",
       "      <td>0,00</td>\n",
       "    </tr>\n",
       "    <tr>\n",
       "      <th>16</th>\n",
       "      <td>2014</td>\n",
       "      <td>2</td>\n",
       "      <td>Buenos Aires</td>\n",
       "      <td>55,06</td>\n",
       "      <td>-36,6769</td>\n",
       "      <td>-60,5588</td>\n",
       "      <td>54,57</td>\n",
       "      <td>55,66</td>\n",
       "    </tr>\n",
       "    <tr>\n",
       "      <th>40</th>\n",
       "      <td>2014</td>\n",
       "      <td>3</td>\n",
       "      <td>Buenos Aires</td>\n",
       "      <td>56,75</td>\n",
       "      <td>-36,6769</td>\n",
       "      <td>-60,5588</td>\n",
       "      <td>55,06</td>\n",
       "      <td>56,16</td>\n",
       "    </tr>\n",
       "    <tr>\n",
       "      <th>64</th>\n",
       "      <td>2014</td>\n",
       "      <td>4</td>\n",
       "      <td>Buenos Aires</td>\n",
       "      <td>56,09</td>\n",
       "      <td>-36,6769</td>\n",
       "      <td>-60,5588</td>\n",
       "      <td>56,75</td>\n",
       "      <td>57,89</td>\n",
       "    </tr>\n",
       "    <tr>\n",
       "      <th>88</th>\n",
       "      <td>2015</td>\n",
       "      <td>1</td>\n",
       "      <td>Buenos Aires</td>\n",
       "      <td>56,37</td>\n",
       "      <td>-36,6769</td>\n",
       "      <td>-60,5588</td>\n",
       "      <td>56,09</td>\n",
       "      <td>57,22</td>\n",
       "    </tr>\n",
       "  </tbody>\n",
       "</table>\n",
       "</div>"
      ],
      "text/plain": [
       "     Año  Trimestre     Provincia Accesos/100 hogares   Latitud  Longitud  \\\n",
       "0   2014          1  Buenos Aires               54,57  -36,6769  -60,5588   \n",
       "16  2014          2  Buenos Aires               55,06  -36,6769  -60,5588   \n",
       "40  2014          3  Buenos Aires               56,75  -36,6769  -60,5588   \n",
       "64  2014          4  Buenos Aires               56,09  -36,6769  -60,5588   \n",
       "88  2015          1  Buenos Aires               56,37  -36,6769  -60,5588   \n",
       "\n",
       "   Accesos hogares trimestre anterior Accesos hogares meta  \n",
       "0                                0,00                 0,00  \n",
       "16                              54,57                55,66  \n",
       "40                              55,06                56,16  \n",
       "64                              56,75                57,89  \n",
       "88                              56,09                57,22  "
      ]
     },
     "execution_count": 3375,
     "metadata": {},
     "output_type": "execute_result"
    }
   ],
   "source": [
    "# Agrupar por Año, Trimestre y Provincia y sumar los valores\n",
    "penetracion_hogares_anual = penetracion_hogares.groupby(['Año', 'Trimestre', 'Provincia'], as_index=False).sum()\n",
    "\n",
    "# Se hace Join con el dataset de latitudes y longitudes para preparar los datos para los mapas en Power BI\n",
    "penetracion_hogares_anual = penetracion_hogares_anual.merge(lat_long_prov, on='Provincia', how='left')\n",
    "\n",
    "# Cambiar el nombre de la columna 'Accesos por cada 100 hogare'\n",
    "penetracion_hogares_anual = penetracion_hogares_anual.rename(columns={'Accesos por cada 100 hogares': 'Accesos/100 hogares'})\n",
    "\n",
    "# Cambiar el tipo de las columnas\n",
    "penetracion_hogares_anual = penetracion_hogares_anual.astype({'Accesos/100 hogares': 'float64'})\n",
    "\n",
    "# Asegurarse de que los datos estén ordenados por Provincia, Año y Trimestre\n",
    "penetracion_hogares_anual = penetracion_hogares_anual.sort_values(by=['Provincia', 'Año', 'Trimestre'])\n",
    "\n",
    "# Crear una columna para los accesos del trimestre anterior\n",
    "penetracion_hogares_anual['Accesos hogares trimestre anterior'] = penetracion_hogares_anual.groupby('Provincia')['Accesos/100 hogares'].shift(1)\n",
    "\n",
    "# Calcular la meta como un 2% más de los accesos del trimestre anterior\n",
    "penetracion_hogares_anual['Accesos hogares meta'] = penetracion_hogares_anual['Accesos hogares trimestre anterior'] * 1.02\n",
    "\n",
    "# Reemplaza los valores NaN por 0 en todas las columnas numéricas\n",
    "penetracion_hogares_anual = penetracion_hogares_anual.fillna(0)\n",
    "\n",
    "# Se cambia punto decimal por coma para no tener problemas de lectura con PowerBI\n",
    "penetracion_hogares_anual['Accesos/100 hogares'] = penetracion_hogares_anual['Accesos/100 hogares'].apply(lambda x: f\"{x:.2f}\".replace('.', ','))\n",
    "penetracion_hogares_anual['Accesos hogares trimestre anterior'] = penetracion_hogares_anual['Accesos hogares trimestre anterior'].apply(lambda x: f\"{x:.2f}\".replace('.', ','))\n",
    "penetracion_hogares_anual['Accesos hogares meta'] = penetracion_hogares_anual['Accesos hogares meta'].apply(lambda x: f\"{x:.2f}\".replace('.', ','))\n",
    "\n",
    "\n",
    "penetracion_hogares_anual.head()"
   ]
  },
  {
   "cell_type": "code",
   "execution_count": 3376,
   "metadata": {},
   "outputs": [],
   "source": [
    "penetracion_hogares_anual.to_csv(r'C:\\Users\\felip\\Desktop\\Stuff\\Cursos\\SoyHenry\\Clases\\LABS\\PI Data Analytics\\pida_fviera\\Datasets\\penetracion_hogares_anual.csv', index=False)"
   ]
  },
  {
   "cell_type": "markdown",
   "metadata": {},
   "source": [
    "## penetracion_totales"
   ]
  },
  {
   "cell_type": "code",
   "execution_count": 3377,
   "metadata": {},
   "outputs": [
    {
     "data": {
      "text/html": [
       "<div>\n",
       "<style scoped>\n",
       "    .dataframe tbody tr th:only-of-type {\n",
       "        vertical-align: middle;\n",
       "    }\n",
       "\n",
       "    .dataframe tbody tr th {\n",
       "        vertical-align: top;\n",
       "    }\n",
       "\n",
       "    .dataframe thead th {\n",
       "        text-align: right;\n",
       "    }\n",
       "</style>\n",
       "<table border=\"1\" class=\"dataframe\">\n",
       "  <thead>\n",
       "    <tr style=\"text-align: right;\">\n",
       "      <th></th>\n",
       "      <th>Año</th>\n",
       "      <th>Trimestre</th>\n",
       "      <th>Accesos por cada 100 hogares</th>\n",
       "      <th>Accesos por cada 100 hab</th>\n",
       "      <th>Periodo</th>\n",
       "    </tr>\n",
       "  </thead>\n",
       "  <tbody>\n",
       "    <tr>\n",
       "      <th>0</th>\n",
       "      <td>2024</td>\n",
       "      <td>2</td>\n",
       "      <td>78.13</td>\n",
       "      <td>24.57</td>\n",
       "      <td>Abr-Jun 2024</td>\n",
       "    </tr>\n",
       "    <tr>\n",
       "      <th>1</th>\n",
       "      <td>2024</td>\n",
       "      <td>1</td>\n",
       "      <td>78.89</td>\n",
       "      <td>24.79</td>\n",
       "      <td>Ene-Mar 2024</td>\n",
       "    </tr>\n",
       "    <tr>\n",
       "      <th>2</th>\n",
       "      <td>2023</td>\n",
       "      <td>4</td>\n",
       "      <td>78.56</td>\n",
       "      <td>24.66</td>\n",
       "      <td>Oct-Dic 2023</td>\n",
       "    </tr>\n",
       "    <tr>\n",
       "      <th>3</th>\n",
       "      <td>2023</td>\n",
       "      <td>3</td>\n",
       "      <td>77.84</td>\n",
       "      <td>24.41</td>\n",
       "      <td>Jul-Sept 2023</td>\n",
       "    </tr>\n",
       "    <tr>\n",
       "      <th>4</th>\n",
       "      <td>2023</td>\n",
       "      <td>2</td>\n",
       "      <td>77.02</td>\n",
       "      <td>24.14</td>\n",
       "      <td>Abr-Jun 2023</td>\n",
       "    </tr>\n",
       "  </tbody>\n",
       "</table>\n",
       "</div>"
      ],
      "text/plain": [
       "    Año  Trimestre  Accesos por cada 100 hogares  Accesos por cada 100 hab  \\\n",
       "0  2024          2                         78.13                     24.57   \n",
       "1  2024          1                         78.89                     24.79   \n",
       "2  2023          4                         78.56                     24.66   \n",
       "3  2023          3                         77.84                     24.41   \n",
       "4  2023          2                         77.02                     24.14   \n",
       "\n",
       "         Periodo  \n",
       "0   Abr-Jun 2024  \n",
       "1   Ene-Mar 2024  \n",
       "2   Oct-Dic 2023  \n",
       "3  Jul-Sept 2023  \n",
       "4   Abr-Jun 2023  "
      ]
     },
     "execution_count": 3377,
     "metadata": {},
     "output_type": "execute_result"
    }
   ],
   "source": [
    "penetracion_totales.head()"
   ]
  },
  {
   "cell_type": "code",
   "execution_count": 3378,
   "metadata": {},
   "outputs": [
    {
     "data": {
      "text/html": [
       "<div>\n",
       "<style scoped>\n",
       "    .dataframe tbody tr th:only-of-type {\n",
       "        vertical-align: middle;\n",
       "    }\n",
       "\n",
       "    .dataframe tbody tr th {\n",
       "        vertical-align: top;\n",
       "    }\n",
       "\n",
       "    .dataframe thead th {\n",
       "        text-align: right;\n",
       "    }\n",
       "</style>\n",
       "<table border=\"1\" class=\"dataframe\">\n",
       "  <thead>\n",
       "    <tr style=\"text-align: right;\">\n",
       "      <th></th>\n",
       "      <th>Año</th>\n",
       "      <th>Trimestre</th>\n",
       "      <th>Hasta 512 kbps</th>\n",
       "      <th>Entre 512 Kbps y 1 Mbps</th>\n",
       "      <th>Entre 1 Mbps y 6 Mbps</th>\n",
       "      <th>Entre 6 Mbps y 10 Mbps</th>\n",
       "      <th>Entre 10 Mbps y 20 Mbps</th>\n",
       "      <th>Entre 20 Mbps y 30 Mbps</th>\n",
       "      <th>Más de 30 Mbps</th>\n",
       "      <th>OTROS</th>\n",
       "      <th>Total</th>\n",
       "    </tr>\n",
       "  </thead>\n",
       "  <tbody>\n",
       "    <tr>\n",
       "      <th>0</th>\n",
       "      <td>2024</td>\n",
       "      <td>2</td>\n",
       "      <td>28151</td>\n",
       "      <td>67024</td>\n",
       "      <td>840200</td>\n",
       "      <td>911374</td>\n",
       "      <td>662649</td>\n",
       "      <td>348253</td>\n",
       "      <td>8357088</td>\n",
       "      <td>341368</td>\n",
       "      <td>11556107</td>\n",
       "    </tr>\n",
       "    <tr>\n",
       "      <th>1</th>\n",
       "      <td>2024</td>\n",
       "      <td>1</td>\n",
       "      <td>28801</td>\n",
       "      <td>69355</td>\n",
       "      <td>866152</td>\n",
       "      <td>950930</td>\n",
       "      <td>672155</td>\n",
       "      <td>353896</td>\n",
       "      <td>8363694</td>\n",
       "      <td>328173</td>\n",
       "      <td>11633156</td>\n",
       "    </tr>\n",
       "    <tr>\n",
       "      <th>2</th>\n",
       "      <td>2023</td>\n",
       "      <td>4</td>\n",
       "      <td>29708</td>\n",
       "      <td>71742</td>\n",
       "      <td>900253</td>\n",
       "      <td>978108</td>\n",
       "      <td>697232</td>\n",
       "      <td>350290</td>\n",
       "      <td>8224736</td>\n",
       "      <td>295592</td>\n",
       "      <td>11547661</td>\n",
       "    </tr>\n",
       "    <tr>\n",
       "      <th>3</th>\n",
       "      <td>2023</td>\n",
       "      <td>3</td>\n",
       "      <td>30274</td>\n",
       "      <td>80609</td>\n",
       "      <td>945608</td>\n",
       "      <td>998725</td>\n",
       "      <td>720084</td>\n",
       "      <td>350918</td>\n",
       "      <td>8003269</td>\n",
       "      <td>277421</td>\n",
       "      <td>11406908</td>\n",
       "    </tr>\n",
       "    <tr>\n",
       "      <th>4</th>\n",
       "      <td>2023</td>\n",
       "      <td>2</td>\n",
       "      <td>30827</td>\n",
       "      <td>79405</td>\n",
       "      <td>963510</td>\n",
       "      <td>1028250</td>\n",
       "      <td>734125</td>\n",
       "      <td>364730</td>\n",
       "      <td>7775095</td>\n",
       "      <td>275955</td>\n",
       "      <td>11251897</td>\n",
       "    </tr>\n",
       "  </tbody>\n",
       "</table>\n",
       "</div>"
      ],
      "text/plain": [
       "    Año  Trimestre  Hasta 512 kbps  Entre 512 Kbps y 1 Mbps  \\\n",
       "0  2024          2           28151                    67024   \n",
       "1  2024          1           28801                    69355   \n",
       "2  2023          4           29708                    71742   \n",
       "3  2023          3           30274                    80609   \n",
       "4  2023          2           30827                    79405   \n",
       "\n",
       "   Entre 1 Mbps y 6 Mbps  Entre 6 Mbps y 10 Mbps  Entre 10 Mbps y 20 Mbps  \\\n",
       "0                 840200                  911374                   662649   \n",
       "1                 866152                  950930                   672155   \n",
       "2                 900253                  978108                   697232   \n",
       "3                 945608                  998725                   720084   \n",
       "4                 963510                 1028250                   734125   \n",
       "\n",
       "   Entre 20 Mbps y 30 Mbps  Más de 30 Mbps   OTROS     Total  \n",
       "0                   348253         8357088  341368  11556107  \n",
       "1                   353896         8363694  328173  11633156  \n",
       "2                   350290         8224736  295592  11547661  \n",
       "3                   350918         8003269  277421  11406908  \n",
       "4                   364730         7775095  275955  11251897  "
      ]
     },
     "execution_count": 3378,
     "metadata": {},
     "output_type": "execute_result"
    }
   ],
   "source": [
    "totales_accesos_velocidad.head()"
   ]
  },
  {
   "cell_type": "code",
   "execution_count": 3379,
   "metadata": {},
   "outputs": [
    {
     "data": {
      "text/html": [
       "<div>\n",
       "<style scoped>\n",
       "    .dataframe tbody tr th:only-of-type {\n",
       "        vertical-align: middle;\n",
       "    }\n",
       "\n",
       "    .dataframe tbody tr th {\n",
       "        vertical-align: top;\n",
       "    }\n",
       "\n",
       "    .dataframe thead th {\n",
       "        text-align: right;\n",
       "    }\n",
       "</style>\n",
       "<table border=\"1\" class=\"dataframe\">\n",
       "  <thead>\n",
       "    <tr style=\"text-align: right;\">\n",
       "      <th></th>\n",
       "      <th>Año</th>\n",
       "      <th>Trimestre</th>\n",
       "      <th>Provincia</th>\n",
       "      <th>HASTA 512 kbps</th>\n",
       "      <th>+ 512 Kbps - 1 Mbps</th>\n",
       "      <th>+ 1 Mbps - 6 Mbps</th>\n",
       "      <th>+ 6 Mbps - 10 Mbps</th>\n",
       "      <th>+ 10 Mbps - 20 Mbps</th>\n",
       "      <th>+ 20 Mbps - 30 Mbps</th>\n",
       "      <th>+ 30 Mbps</th>\n",
       "      <th>OTROS</th>\n",
       "      <th>Total</th>\n",
       "    </tr>\n",
       "  </thead>\n",
       "  <tbody>\n",
       "    <tr>\n",
       "      <th>0</th>\n",
       "      <td>2024</td>\n",
       "      <td>2</td>\n",
       "      <td>Buenos Aires</td>\n",
       "      <td>25287.0</td>\n",
       "      <td>23034.0</td>\n",
       "      <td>222627.0</td>\n",
       "      <td>221660.0</td>\n",
       "      <td>244528.0</td>\n",
       "      <td>106302.0</td>\n",
       "      <td>4020395.0</td>\n",
       "      <td>125547.0</td>\n",
       "      <td>4989380.0</td>\n",
       "    </tr>\n",
       "    <tr>\n",
       "      <th>1</th>\n",
       "      <td>2024</td>\n",
       "      <td>2</td>\n",
       "      <td>Capital Federal</td>\n",
       "      <td>518.0</td>\n",
       "      <td>4122.0</td>\n",
       "      <td>24539.0</td>\n",
       "      <td>40296.0</td>\n",
       "      <td>33158.0</td>\n",
       "      <td>5633.0</td>\n",
       "      <td>1355333.0</td>\n",
       "      <td>0.0</td>\n",
       "      <td>1463599.0</td>\n",
       "    </tr>\n",
       "    <tr>\n",
       "      <th>2</th>\n",
       "      <td>2024</td>\n",
       "      <td>2</td>\n",
       "      <td>Catamarca</td>\n",
       "      <td>72.0</td>\n",
       "      <td>164.0</td>\n",
       "      <td>2660.0</td>\n",
       "      <td>3093.0</td>\n",
       "      <td>3799.0</td>\n",
       "      <td>1279.0</td>\n",
       "      <td>63954.0</td>\n",
       "      <td>53.0</td>\n",
       "      <td>75074.0</td>\n",
       "    </tr>\n",
       "    <tr>\n",
       "      <th>3</th>\n",
       "      <td>2024</td>\n",
       "      <td>2</td>\n",
       "      <td>Chaco</td>\n",
       "      <td>236.0</td>\n",
       "      <td>349.0</td>\n",
       "      <td>14594.0</td>\n",
       "      <td>8336.0</td>\n",
       "      <td>6208.0</td>\n",
       "      <td>6454.0</td>\n",
       "      <td>107707.0</td>\n",
       "      <td>3208.0</td>\n",
       "      <td>147092.0</td>\n",
       "    </tr>\n",
       "    <tr>\n",
       "      <th>4</th>\n",
       "      <td>2024</td>\n",
       "      <td>2</td>\n",
       "      <td>Chubut</td>\n",
       "      <td>125.0</td>\n",
       "      <td>1139.0</td>\n",
       "      <td>43699.0</td>\n",
       "      <td>31971.0</td>\n",
       "      <td>22696.0</td>\n",
       "      <td>19827.0</td>\n",
       "      <td>38212.0</td>\n",
       "      <td>16554.0</td>\n",
       "      <td>174223.0</td>\n",
       "    </tr>\n",
       "  </tbody>\n",
       "</table>\n",
       "</div>"
      ],
      "text/plain": [
       "    Año  Trimestre        Provincia  HASTA 512 kbps  + 512 Kbps - 1 Mbps  \\\n",
       "0  2024          2     Buenos Aires         25287.0              23034.0   \n",
       "1  2024          2  Capital Federal           518.0               4122.0   \n",
       "2  2024          2        Catamarca            72.0                164.0   \n",
       "3  2024          2            Chaco           236.0                349.0   \n",
       "4  2024          2           Chubut           125.0               1139.0   \n",
       "\n",
       "   + 1 Mbps - 6 Mbps  + 6 Mbps - 10 Mbps  + 10 Mbps - 20 Mbps  \\\n",
       "0           222627.0            221660.0             244528.0   \n",
       "1            24539.0             40296.0              33158.0   \n",
       "2             2660.0              3093.0               3799.0   \n",
       "3            14594.0              8336.0               6208.0   \n",
       "4            43699.0             31971.0              22696.0   \n",
       "\n",
       "   + 20 Mbps - 30 Mbps  + 30 Mbps     OTROS      Total  \n",
       "0             106302.0  4020395.0  125547.0  4989380.0  \n",
       "1               5633.0  1355333.0       0.0  1463599.0  \n",
       "2               1279.0    63954.0      53.0    75074.0  \n",
       "3               6454.0   107707.0    3208.0   147092.0  \n",
       "4              19827.0    38212.0   16554.0   174223.0  "
      ]
     },
     "execution_count": 3379,
     "metadata": {},
     "output_type": "execute_result"
    }
   ],
   "source": [
    "accesos_por_velocidad.head()"
   ]
  },
  {
   "cell_type": "code",
   "execution_count": 3380,
   "metadata": {},
   "outputs": [
    {
     "data": {
      "text/html": [
       "<div>\n",
       "<style scoped>\n",
       "    .dataframe tbody tr th:only-of-type {\n",
       "        vertical-align: middle;\n",
       "    }\n",
       "\n",
       "    .dataframe tbody tr th {\n",
       "        vertical-align: top;\n",
       "    }\n",
       "\n",
       "    .dataframe thead th {\n",
       "        text-align: right;\n",
       "    }\n",
       "</style>\n",
       "<table border=\"1\" class=\"dataframe\">\n",
       "  <thead>\n",
       "    <tr style=\"text-align: right;\">\n",
       "      <th></th>\n",
       "      <th>Año</th>\n",
       "      <th>Trimestre</th>\n",
       "      <th>Provincia</th>\n",
       "      <th>Banda ancha fija</th>\n",
       "      <th>Dial up</th>\n",
       "      <th>Total</th>\n",
       "    </tr>\n",
       "  </thead>\n",
       "  <tbody>\n",
       "    <tr>\n",
       "      <th>0</th>\n",
       "      <td>2024</td>\n",
       "      <td>2</td>\n",
       "      <td>Buenos Aires</td>\n",
       "      <td>4983480</td>\n",
       "      <td>5900.0</td>\n",
       "      <td>4989380</td>\n",
       "    </tr>\n",
       "    <tr>\n",
       "      <th>1</th>\n",
       "      <td>2024</td>\n",
       "      <td>2</td>\n",
       "      <td>Capital Federal</td>\n",
       "      <td>1461549</td>\n",
       "      <td>2050.0</td>\n",
       "      <td>1463599</td>\n",
       "    </tr>\n",
       "    <tr>\n",
       "      <th>2</th>\n",
       "      <td>2024</td>\n",
       "      <td>2</td>\n",
       "      <td>Catamarca</td>\n",
       "      <td>75073</td>\n",
       "      <td>1.0</td>\n",
       "      <td>75074</td>\n",
       "    </tr>\n",
       "    <tr>\n",
       "      <th>3</th>\n",
       "      <td>2024</td>\n",
       "      <td>2</td>\n",
       "      <td>Chaco</td>\n",
       "      <td>147087</td>\n",
       "      <td>5.0</td>\n",
       "      <td>147092</td>\n",
       "    </tr>\n",
       "    <tr>\n",
       "      <th>4</th>\n",
       "      <td>2024</td>\n",
       "      <td>2</td>\n",
       "      <td>Chubut</td>\n",
       "      <td>173366</td>\n",
       "      <td>857.0</td>\n",
       "      <td>174223</td>\n",
       "    </tr>\n",
       "  </tbody>\n",
       "</table>\n",
       "</div>"
      ],
      "text/plain": [
       "    Año  Trimestre        Provincia  Banda ancha fija  Dial up    Total\n",
       "0  2024          2     Buenos Aires           4983480   5900.0  4989380\n",
       "1  2024          2  Capital Federal           1461549   2050.0  1463599\n",
       "2  2024          2        Catamarca             75073      1.0    75074\n",
       "3  2024          2            Chaco            147087      5.0   147092\n",
       "4  2024          2           Chubut            173366    857.0   174223"
      ]
     },
     "execution_count": 3380,
     "metadata": {},
     "output_type": "execute_result"
    }
   ],
   "source": [
    "dial_baf.head()"
   ]
  },
  {
   "cell_type": "code",
   "execution_count": 3381,
   "metadata": {},
   "outputs": [
    {
     "data": {
      "text/html": [
       "<div>\n",
       "<style scoped>\n",
       "    .dataframe tbody tr th:only-of-type {\n",
       "        vertical-align: middle;\n",
       "    }\n",
       "\n",
       "    .dataframe tbody tr th {\n",
       "        vertical-align: top;\n",
       "    }\n",
       "\n",
       "    .dataframe thead th {\n",
       "        text-align: right;\n",
       "    }\n",
       "</style>\n",
       "<table border=\"1\" class=\"dataframe\">\n",
       "  <thead>\n",
       "    <tr style=\"text-align: right;\">\n",
       "      <th></th>\n",
       "      <th>Año</th>\n",
       "      <th>Trimestre</th>\n",
       "      <th>Banda ancha fija</th>\n",
       "      <th>Dial up</th>\n",
       "      <th>Total</th>\n",
       "      <th>Periodo</th>\n",
       "    </tr>\n",
       "  </thead>\n",
       "  <tbody>\n",
       "    <tr>\n",
       "      <th>0</th>\n",
       "      <td>2024</td>\n",
       "      <td>2</td>\n",
       "      <td>11544314</td>\n",
       "      <td>11793</td>\n",
       "      <td>11556107</td>\n",
       "      <td>Abr-Jun 2024</td>\n",
       "    </tr>\n",
       "    <tr>\n",
       "      <th>1</th>\n",
       "      <td>2024</td>\n",
       "      <td>1</td>\n",
       "      <td>11621363</td>\n",
       "      <td>11793</td>\n",
       "      <td>11633156</td>\n",
       "      <td>Ene-Mar 2024</td>\n",
       "    </tr>\n",
       "    <tr>\n",
       "      <th>2</th>\n",
       "      <td>2023</td>\n",
       "      <td>4</td>\n",
       "      <td>11535868</td>\n",
       "      <td>11793</td>\n",
       "      <td>11547661</td>\n",
       "      <td>Oct-Dic 2023</td>\n",
       "    </tr>\n",
       "    <tr>\n",
       "      <th>3</th>\n",
       "      <td>2023</td>\n",
       "      <td>3</td>\n",
       "      <td>11395115</td>\n",
       "      <td>11793</td>\n",
       "      <td>11406908</td>\n",
       "      <td>Jul-Sept 2023</td>\n",
       "    </tr>\n",
       "    <tr>\n",
       "      <th>4</th>\n",
       "      <td>2023</td>\n",
       "      <td>2</td>\n",
       "      <td>11239781</td>\n",
       "      <td>12116</td>\n",
       "      <td>11251897</td>\n",
       "      <td>Abr-Jun 2023</td>\n",
       "    </tr>\n",
       "  </tbody>\n",
       "</table>\n",
       "</div>"
      ],
      "text/plain": [
       "    Año  Trimestre  Banda ancha fija  Dial up     Total        Periodo\n",
       "0  2024          2          11544314    11793  11556107   Abr-Jun 2024\n",
       "1  2024          1          11621363    11793  11633156   Ene-Mar 2024\n",
       "2  2023          4          11535868    11793  11547661   Oct-Dic 2023\n",
       "3  2023          3          11395115    11793  11406908  Jul-Sept 2023\n",
       "4  2023          2          11239781    12116  11251897   Abr-Jun 2023"
      ]
     },
     "execution_count": 3381,
     "metadata": {},
     "output_type": "execute_result"
    }
   ],
   "source": [
    "totales_dial_baf.head()"
   ]
  },
  {
   "cell_type": "code",
   "execution_count": 3382,
   "metadata": {},
   "outputs": [
    {
     "data": {
      "text/html": [
       "<div>\n",
       "<style scoped>\n",
       "    .dataframe tbody tr th:only-of-type {\n",
       "        vertical-align: middle;\n",
       "    }\n",
       "\n",
       "    .dataframe tbody tr th {\n",
       "        vertical-align: top;\n",
       "    }\n",
       "\n",
       "    .dataframe thead th {\n",
       "        text-align: right;\n",
       "    }\n",
       "</style>\n",
       "<table border=\"1\" class=\"dataframe\">\n",
       "  <thead>\n",
       "    <tr style=\"text-align: right;\">\n",
       "      <th></th>\n",
       "      <th>Año</th>\n",
       "      <th>Trimestre</th>\n",
       "      <th>Ingresos (miles de pesos)</th>\n",
       "      <th>Periodo</th>\n",
       "    </tr>\n",
       "  </thead>\n",
       "  <tbody>\n",
       "    <tr>\n",
       "      <th>0</th>\n",
       "      <td>2024</td>\n",
       "      <td>2</td>\n",
       "      <td>4.420322e+08</td>\n",
       "      <td>Abr-Jun 2024</td>\n",
       "    </tr>\n",
       "    <tr>\n",
       "      <th>1</th>\n",
       "      <td>2024</td>\n",
       "      <td>1</td>\n",
       "      <td>3.461990e+08</td>\n",
       "      <td>Ene-Mar 2024</td>\n",
       "    </tr>\n",
       "    <tr>\n",
       "      <th>2</th>\n",
       "      <td>2023</td>\n",
       "      <td>4</td>\n",
       "      <td>1.673760e+08</td>\n",
       "      <td>Oct-Dic 2023</td>\n",
       "    </tr>\n",
       "    <tr>\n",
       "      <th>3</th>\n",
       "      <td>2023</td>\n",
       "      <td>3</td>\n",
       "      <td>1.331066e+08</td>\n",
       "      <td>Jul-Sept 2023</td>\n",
       "    </tr>\n",
       "    <tr>\n",
       "      <th>4</th>\n",
       "      <td>2023</td>\n",
       "      <td>2</td>\n",
       "      <td>1.180603e+08</td>\n",
       "      <td>Jun-Mar 2023</td>\n",
       "    </tr>\n",
       "  </tbody>\n",
       "</table>\n",
       "</div>"
      ],
      "text/plain": [
       "    Año  Trimestre  Ingresos (miles de pesos)        Periodo\n",
       "0  2024          2               4.420322e+08   Abr-Jun 2024\n",
       "1  2024          1               3.461990e+08   Ene-Mar 2024\n",
       "2  2023          4               1.673760e+08   Oct-Dic 2023\n",
       "3  2023          3               1.331066e+08  Jul-Sept 2023\n",
       "4  2023          2               1.180603e+08   Jun-Mar 2023"
      ]
     },
     "execution_count": 3382,
     "metadata": {},
     "output_type": "execute_result"
    }
   ],
   "source": [
    "ingresos.head()"
   ]
  },
  {
   "cell_type": "code",
   "execution_count": 3383,
   "metadata": {},
   "outputs": [
    {
     "data": {
      "text/plain": [
       "442032166.69"
      ]
     },
     "execution_count": 3383,
     "metadata": {},
     "output_type": "execute_result"
    }
   ],
   "source": [
    "# Se revisa si hay problemas con el formato de \"comas\" v/s \"puntos\"\n",
    "    # En el excel el valor es de \"442032166,69\"\n",
    "ingresos['Ingresos (miles de pesos)'].iloc[0]"
   ]
  },
  {
   "cell_type": "markdown",
   "metadata": {},
   "source": [
    "Es clave: ANÁLISIS, CONCLUSiONES Y RECOMENDACIONES"
   ]
  },
  {
   "cell_type": "markdown",
   "metadata": {},
   "source": [
    "---------------------------------------------------------------------------------------------------------------------------------------------------------------"
   ]
  },
  {
   "cell_type": "markdown",
   "metadata": {},
   "source": [
    "### Dataset mapa_conectividad será útil para explorar zonas geográficas"
   ]
  },
  {
   "cell_type": "code",
   "execution_count": 3384,
   "metadata": {},
   "outputs": [],
   "source": [
    "mapa_conectividad = pd.read_excel(r'C:\\Users\\felip\\Desktop\\Stuff\\Cursos\\SoyHenry\\Clases\\LABS\\PI Data Analytics\\pida_fviera\\venv\\Datasets\\mapa_conectividad.xlsx')"
   ]
  },
  {
   "cell_type": "code",
   "execution_count": 3385,
   "metadata": {},
   "outputs": [
    {
     "data": {
      "text/html": [
       "<div>\n",
       "<style scoped>\n",
       "    .dataframe tbody tr th:only-of-type {\n",
       "        vertical-align: middle;\n",
       "    }\n",
       "\n",
       "    .dataframe tbody tr th {\n",
       "        vertical-align: top;\n",
       "    }\n",
       "\n",
       "    .dataframe thead th {\n",
       "        text-align: right;\n",
       "    }\n",
       "</style>\n",
       "<table border=\"1\" class=\"dataframe\">\n",
       "  <thead>\n",
       "    <tr style=\"text-align: right;\">\n",
       "      <th></th>\n",
       "      <th>Provincia</th>\n",
       "      <th>Partido</th>\n",
       "      <th>Localidad</th>\n",
       "      <th>Población</th>\n",
       "      <th>ADSL</th>\n",
       "      <th>Cablemódem</th>\n",
       "      <th>Dial Up</th>\n",
       "      <th>Fibra óptica</th>\n",
       "      <th>Satelital</th>\n",
       "      <th>Wireless</th>\n",
       "      <th>Telefonía Fija</th>\n",
       "      <th>3G</th>\n",
       "      <th>4G</th>\n",
       "      <th>Link</th>\n",
       "      <th>Latitud</th>\n",
       "      <th>Longitud</th>\n",
       "    </tr>\n",
       "  </thead>\n",
       "  <tbody>\n",
       "    <tr>\n",
       "      <th>0</th>\n",
       "      <td>BUENOS AIRES</td>\n",
       "      <td>25 de Mayo</td>\n",
       "      <td>25 de Mayo</td>\n",
       "      <td>23408</td>\n",
       "      <td>SI</td>\n",
       "      <td>SI</td>\n",
       "      <td>--</td>\n",
       "      <td>--</td>\n",
       "      <td>SI</td>\n",
       "      <td>SI</td>\n",
       "      <td>SI</td>\n",
       "      <td>SI</td>\n",
       "      <td>SI</td>\n",
       "      <td>6854100.0</td>\n",
       "      <td>-35.433939</td>\n",
       "      <td>-60.173121</td>\n",
       "    </tr>\n",
       "    <tr>\n",
       "      <th>1</th>\n",
       "      <td>BUENOS AIRES</td>\n",
       "      <td>25 de Mayo</td>\n",
       "      <td>Agustín Mosconi</td>\n",
       "      <td>280</td>\n",
       "      <td>--</td>\n",
       "      <td>--</td>\n",
       "      <td>--</td>\n",
       "      <td>--</td>\n",
       "      <td>--</td>\n",
       "      <td>--</td>\n",
       "      <td>SI</td>\n",
       "      <td>--</td>\n",
       "      <td>--</td>\n",
       "      <td>6854010.0</td>\n",
       "      <td>-35.739217</td>\n",
       "      <td>-60.559063</td>\n",
       "    </tr>\n",
       "    <tr>\n",
       "      <th>2</th>\n",
       "      <td>BUENOS AIRES</td>\n",
       "      <td>25 de Mayo</td>\n",
       "      <td>Del Valle</td>\n",
       "      <td>899</td>\n",
       "      <td>SI</td>\n",
       "      <td>--</td>\n",
       "      <td>--</td>\n",
       "      <td>--</td>\n",
       "      <td>SI</td>\n",
       "      <td>--</td>\n",
       "      <td>--</td>\n",
       "      <td>SI</td>\n",
       "      <td>--</td>\n",
       "      <td>6854020.0</td>\n",
       "      <td>-35.897345</td>\n",
       "      <td>-60.731609</td>\n",
       "    </tr>\n",
       "    <tr>\n",
       "      <th>3</th>\n",
       "      <td>BUENOS AIRES</td>\n",
       "      <td>25 de Mayo</td>\n",
       "      <td>Ernestina</td>\n",
       "      <td>145</td>\n",
       "      <td>SI</td>\n",
       "      <td>--</td>\n",
       "      <td>--</td>\n",
       "      <td>--</td>\n",
       "      <td>--</td>\n",
       "      <td>--</td>\n",
       "      <td>SI</td>\n",
       "      <td>--</td>\n",
       "      <td>--</td>\n",
       "      <td>6854030.0</td>\n",
       "      <td>-35.270234</td>\n",
       "      <td>-59.557503</td>\n",
       "    </tr>\n",
       "    <tr>\n",
       "      <th>4</th>\n",
       "      <td>BUENOS AIRES</td>\n",
       "      <td>25 de Mayo</td>\n",
       "      <td>Gobernador Ugarte</td>\n",
       "      <td>547</td>\n",
       "      <td>--</td>\n",
       "      <td>--</td>\n",
       "      <td>--</td>\n",
       "      <td>--</td>\n",
       "      <td>--</td>\n",
       "      <td>SI</td>\n",
       "      <td>--</td>\n",
       "      <td>--</td>\n",
       "      <td>--</td>\n",
       "      <td>6854040.0</td>\n",
       "      <td>-35.164397</td>\n",
       "      <td>-60.081358</td>\n",
       "    </tr>\n",
       "  </tbody>\n",
       "</table>\n",
       "</div>"
      ],
      "text/plain": [
       "      Provincia     Partido          Localidad  Población ADSL Cablemódem  \\\n",
       "0  BUENOS AIRES  25 de Mayo         25 de Mayo      23408   SI         SI   \n",
       "1  BUENOS AIRES  25 de Mayo    Agustín Mosconi        280   --         --   \n",
       "2  BUENOS AIRES  25 de Mayo          Del Valle        899   SI         --   \n",
       "3  BUENOS AIRES  25 de Mayo          Ernestina        145   SI         --   \n",
       "4  BUENOS AIRES  25 de Mayo  Gobernador Ugarte        547   --         --   \n",
       "\n",
       "  Dial Up Fibra óptica Satelital Wireless Telefonía Fija  3G  4G       Link  \\\n",
       "0      --           --        SI       SI             SI  SI  SI  6854100.0   \n",
       "1      --           --        --       --             SI  --  --  6854010.0   \n",
       "2      --           --        SI       --             --  SI  --  6854020.0   \n",
       "3      --           --        --       --             SI  --  --  6854030.0   \n",
       "4      --           --        --       SI             --  --  --  6854040.0   \n",
       "\n",
       "     Latitud   Longitud  \n",
       "0 -35.433939 -60.173121  \n",
       "1 -35.739217 -60.559063  \n",
       "2 -35.897345 -60.731609  \n",
       "3 -35.270234 -59.557503  \n",
       "4 -35.164397 -60.081358  "
      ]
     },
     "execution_count": 3385,
     "metadata": {},
     "output_type": "execute_result"
    }
   ],
   "source": [
    "mapa_conectividad.head()"
   ]
  },
  {
   "cell_type": "markdown",
   "metadata": {},
   "source": [
    "## Mapa Provincias argentinas"
   ]
  },
  {
   "cell_type": "code",
   "execution_count": 3386,
   "metadata": {},
   "outputs": [],
   "source": [
    "# import geopandas as gpd"
   ]
  },
  {
   "cell_type": "code",
   "execution_count": 3387,
   "metadata": {},
   "outputs": [],
   "source": [
    "# Leer archivo GeoJson con las provincias Argentinas\n",
    "# geo_provincias = gpd.read_file(r\"C:\\Users\\felip\\Desktop\\Stuff\\Cursos\\SoyHenry\\Clases\\LABS\\PI Data Analytics\\pida_fviera\\gadm41_ARG_1.json\")\n"
   ]
  },
  {
   "cell_type": "code",
   "execution_count": 3388,
   "metadata": {},
   "outputs": [],
   "source": [
    "# print(geo_provincias.columns)"
   ]
  },
  {
   "cell_type": "code",
   "execution_count": 3389,
   "metadata": {},
   "outputs": [],
   "source": [
    "# Asignar la columna correcta con los nombres de provincias (sustituye NAME_1 si es necesario)\n",
    "# geo_provincias['Provincia'] = geo_provincias['NAME_1'].str.title()\n",
    "\n",
    "# Mostrar las primeras filas para verificar\n",
    "# print(geo_provincias[['Provincia', 'geometry']].head())"
   ]
  },
  {
   "cell_type": "code",
   "execution_count": 3390,
   "metadata": {},
   "outputs": [],
   "source": [
    "# Se deben normalizar las provincias\n",
    "# geo_provincias['Provincia'].value_counts().index"
   ]
  },
  {
   "cell_type": "code",
   "execution_count": 3391,
   "metadata": {},
   "outputs": [],
   "source": [
    "# # Plotear el mapa\n",
    "# fig, ax = plt.subplots(1, 1, figsize=(10,10))\n",
    "# geo_provincias.plot(column='Accesos por cada 100 hogares',\n",
    "#                     cmap='Blues',\n",
    "#                     legend=True,\n",
    "#                     ax=ax,\n",
    "#                     edgecolor='black')\n",
    "\n",
    "# plt.title('Accesos por cada 100 hogares en Argentina', fontsize=15)\n",
    "# plt.show()"
   ]
  },
  {
   "cell_type": "markdown",
   "metadata": {},
   "source": [
    "### Se debe normalizar la columna provincia del dataset mapa_conectividad"
   ]
  },
  {
   "cell_type": "markdown",
   "metadata": {},
   "source": [
    "Nota: No creo que el dataset vaya a ser necesario"
   ]
  },
  {
   "cell_type": "code",
   "execution_count": 3392,
   "metadata": {},
   "outputs": [],
   "source": [
    "# mapa_conectividad['Provincia'].value_counts().index"
   ]
  },
  {
   "cell_type": "markdown",
   "metadata": {},
   "source": [
    "Se toma como referencia las provincias de dataset penetracion_hogares"
   ]
  },
  {
   "cell_type": "code",
   "execution_count": 3393,
   "metadata": {},
   "outputs": [],
   "source": [
    "# penetracion_hogares['Provincia'].value_counts().index\n",
    "\n",
    "# Provincias con acento:\n",
    "    # 'Río Negro', 'Neuquén', 'Entre Ríos', 'Córdoba', 'Tucumán'"
   ]
  },
  {
   "cell_type": "code",
   "execution_count": 3394,
   "metadata": {},
   "outputs": [
    {
     "data": {
      "text/plain": [
       "Index(['Buenos Aires', 'Córdoba', 'Santa Fe', 'San Luis', 'Mendoza',\n",
       "       'Entre Ríos', 'Catamarca', 'Santiago Del Estero', 'Río Negro', 'Jujuy',\n",
       "       'Misiones', 'Salta', 'Tucumán', 'San Juan', 'La Rioja', 'Chaco',\n",
       "       'Chubut', 'La Pampa', 'Corrientes', 'Formosa', 'Neuquén',\n",
       "       'Capital Federal', 'Santa Cruz', 'Tierra Del Fuego'],\n",
       "      dtype='object', name='Provincia')"
      ]
     },
     "execution_count": 3394,
     "metadata": {},
     "output_type": "execute_result"
    }
   ],
   "source": [
    "# Diccionario de mapeo: valores originales -> valores normalizados\n",
    "mapeo_provincias = {\n",
    "    'BUENOS AIRES': 'Buenos Aires',\n",
    "    'CORDOBA': 'Córdoba',\n",
    "    'SANTA FE': 'Santa Fe',\n",
    "    'SAN LUIS': 'San Luis',\n",
    "    'MENDOZA': 'Mendoza',\n",
    "    'ENTRE RIOS': 'Entre Ríos',\n",
    "    'CATAMARCA': 'Catamarca',\n",
    "    'SANTIAGO DEL ESTERO': 'Santiago Del Estero',\n",
    "    'RIO NEGRO': 'Río Negro',\n",
    "    'JUJUY': 'Jujuy',\n",
    "    'MISIONES': 'Misiones',\n",
    "    'SALTA': 'Salta',\n",
    "    'TUCUMAN': 'Tucumán',\n",
    "    'SAN JUAN': 'San Juan',\n",
    "    'LA RIOJA': 'La Rioja',\n",
    "    'CHACO': 'Chaco',\n",
    "    'CHUBUT': 'Chubut',\n",
    "    'LA PAMPA': 'La Pampa',\n",
    "    'CORRIENTES': 'Corrientes',\n",
    "    'FORMOSA': 'Formosa',\n",
    "    'NEUQUEN': 'Neuquén',\n",
    "    'CABA': 'Capital Federal',\n",
    "    'SANTA CRUZ': 'Santa Cruz',\n",
    "    'TIERRA DEL FUEGO': 'Tierra Del Fuego'\n",
    "}\n",
    "\n",
    "# Aplicar el mapeo para normalizar la columna 'Provincia' de mapa_conectividad\n",
    "mapa_conectividad['Provincia'] = mapa_conectividad['Provincia'].replace(mapeo_provincias)\n",
    "\n",
    "mapa_conectividad['Provincia'].value_counts().index"
   ]
  },
  {
   "cell_type": "markdown",
   "metadata": {},
   "source": [
    "### Objetivo:\n",
    "Reconocer el comportamiento del sector a nivel nacional\n",
    "\n",
    "Nota: \n",
    "* la principal actividad de la empresa es brindar acceso a internet\n",
    "* Dataset obligatorio: internet\n",
    "* Repositorios están siendo ignorados por git, moverlos o crear nuevos cuando corresponda para que se vean reflejados en proyecto"
   ]
  },
  {
   "cell_type": "markdown",
   "metadata": {},
   "source": [
    "### Insights:\n",
    "Nota: División geógrafica será por provincia ya que es el punto en común entre muchos datasets.\n",
    "\n",
    "* Localidades Geográficas con poca penetración (Posible mercado ?)\n",
    "    * comentar que localidades tienen poca penetración, siendo posibles mercados sub-explotados con potencial de crecimiento.\n",
    "* Velocidad en ciertas áreas geográficas\n",
    "    * Provincias con bajas velocidades pueden necesitar inversión en infraestructura.\n",
    "    * bajas velocidades podrían estar relacionadas con insatisfacción en la calidad del servicio, pudiendo ser una oportunidad para ofrecer mayores velocidades o mejorar el que ya se ofrece.\n",
    "Notas:\n",
    "\n",
    "Densidad poblacional:\n",
    "* Provincias con alta densidad pueden ser más atractivas para inversión en infraestructura, ya que los costos se distribuyen entre más clientes potenciales.\n",
    "\n",
    "Preferencias por Tecnologías:\n",
    "* Provincias con alta adopción de tecnologías avanzadas (como fibra óptica) indican interés por servicios de mayor calidad.\n"
   ]
  },
  {
   "cell_type": "markdown",
   "metadata": {},
   "source": [
    "## Requerimientos rúbrica"
   ]
  },
  {
   "cell_type": "markdown",
   "metadata": {},
   "source": [
    "Requerimientos EDA:\n",
    "* Outliers\n",
    "* Duplicados\n",
    "* NaN's\n",
    "* Gráficos pertinentes con el tipo de variable (cualitativa/quantitativa)\n",
    "    * Gráfico acompañado de análisis profundo y conclusiones obtenidas\n",
    "* Uso de markdown para documentar paso a paso del análisis, justificando decisiones tomadas."
   ]
  },
  {
   "cell_type": "markdown",
   "metadata": {},
   "source": [
    "Readme:\n",
    "* Descripción detallada y concisa del proyecto\n",
    "* Presentación clara y concisa del proyecto\n",
    "* Se mencionan tecnologías y herramientas utilizadas\n",
    "* Se explica metodología que se siguió\n",
    "* se presentan análisis detallados y conclusiones fundamentadas"
   ]
  },
  {
   "cell_type": "markdown",
   "metadata": {},
   "source": [
    "KPI's:\n",
    "* mínimo 3 kpi's en dashboard. Se debe explicar y defender la elección de estos.\n",
    "* Saber distinción entre métrica y kpi, utilizando visuales apropiadas para estos últimos"
   ]
  },
  {
   "cell_type": "markdown",
   "metadata": {},
   "source": [
    "Dashboard \n",
    "\n",
    "1) funcionalidad y usabilidad:\n",
    "* filtros, selecciones y acciones implementadas son eficientes y tienen valor estratégico para agregar valor al análisis\n",
    "* UX con navegación intuitiva, funciones no requieren explicaciones adicionales\n",
    "\n",
    "2) Compresión propósito:\n",
    "* Muestra visión general de los datos con info clave para toma de decisiones\n",
    "* Se enfoca en indicadores clave relevantes respecto del objetivo\n",
    "\n",
    "3) Diseño:\n",
    "* Fácil comprensión\n",
    "* Elementos alineados, colores y tipografía consistente\n",
    "* Uso Técnicas de diseño (tamaño, color, posición) para guiar atención"
   ]
  },
  {
   "cell_type": "markdown",
   "metadata": {},
   "source": [
    "Gráficas:\n",
    "\n",
    "* Gráficas corresponde con tipo de variable y representa lo que pretende\n",
    "* Estilo uniforme y consistente, escala adecuada, títulos de ejes y etiquetas son descriptivos\n",
    "* Idioma y denominación de variables se encuentran unificados"
   ]
  }
 ],
 "metadata": {
  "kernelspec": {
   "display_name": "Python 3",
   "language": "python",
   "name": "python3"
  },
  "language_info": {
   "codemirror_mode": {
    "name": "ipython",
    "version": 3
   },
   "file_extension": ".py",
   "mimetype": "text/x-python",
   "name": "python",
   "nbconvert_exporter": "python",
   "pygments_lexer": "ipython3",
   "version": "3.11.0"
  }
 },
 "nbformat": 4,
 "nbformat_minor": 2
}
